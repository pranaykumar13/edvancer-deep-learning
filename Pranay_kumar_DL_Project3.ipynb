{
  "nbformat": 4,
  "nbformat_minor": 0,
  "metadata": {
    "colab": {
      "name": "Prapoojitha_Dasari_DL_Project3.ipynb",
      "provenance": [],
      "collapsed_sections": []
    },
    "kernelspec": {
      "name": "python3",
      "display_name": "Python 3"
    },
    "accelerator": "TPU"
  },
  "cells": [
    {
      "cell_type": "code",
      "metadata": {
        "id": "9TTHqYGfQ07A"
      },
      "source": [
        "import pandas as pd\r\n",
        "import numpy as np"
      ],
      "execution_count": 1,
      "outputs": []
    },
    {
      "cell_type": "code",
      "metadata": {
        "colab": {
          "base_uri": "https://localhost:8080/"
        },
        "id": "81oBWgENOPE-",
        "outputId": "7b2ef2a7-f922-4805-8af0-524d1e3aebf8"
      },
      "source": [
        "!wget  https://www.dropbox.com/sh/kpf9z73woodfssv/AAAw1_JIzpuVvwteJCma0xMla?dl=0"
      ],
      "execution_count": 2,
      "outputs": [
        {
          "output_type": "stream",
          "text": [
            "--2020-12-31 04:11:57--  https://www.dropbox.com/sh/kpf9z73woodfssv/AAAw1_JIzpuVvwteJCma0xMla?dl=0\n",
            "Resolving www.dropbox.com (www.dropbox.com)... 162.125.3.18, 2620:100:6018:18::a27d:312\n",
            "Connecting to www.dropbox.com (www.dropbox.com)|162.125.3.18|:443... connected.\n",
            "HTTP request sent, awaiting response... 301 Moved Permanently\n",
            "Location: /sh/raw/kpf9z73woodfssv/AAAw1_JIzpuVvwteJCma0xMla [following]\n",
            "--2020-12-31 04:11:57--  https://www.dropbox.com/sh/raw/kpf9z73woodfssv/AAAw1_JIzpuVvwteJCma0xMla\n",
            "Reusing existing connection to www.dropbox.com:443.\n",
            "HTTP request sent, awaiting response... 302 Found\n",
            "Location: https://ucebaccf7e0498ae9d6812fd5ea3.dl.dropboxusercontent.com/zip_download_get/Apc2vo96tex1e1vheeqeS88qnLpJn5EohVaoCUSq3FcB5OohXKgTNNSwEpm4IdiRh7HqBv00Lec4_zbkvnNtfb_CTV6EZBPzMa7DeolDeH0pXw [following]\n",
            "--2020-12-31 04:11:58--  https://ucebaccf7e0498ae9d6812fd5ea3.dl.dropboxusercontent.com/zip_download_get/Apc2vo96tex1e1vheeqeS88qnLpJn5EohVaoCUSq3FcB5OohXKgTNNSwEpm4IdiRh7HqBv00Lec4_zbkvnNtfb_CTV6EZBPzMa7DeolDeH0pXw\n",
            "Resolving ucebaccf7e0498ae9d6812fd5ea3.dl.dropboxusercontent.com (ucebaccf7e0498ae9d6812fd5ea3.dl.dropboxusercontent.com)... 162.125.3.15, 2620:100:601b:15::a27d:80f\n",
            "Connecting to ucebaccf7e0498ae9d6812fd5ea3.dl.dropboxusercontent.com (ucebaccf7e0498ae9d6812fd5ea3.dl.dropboxusercontent.com)|162.125.3.15|:443... connected.\n",
            "HTTP request sent, awaiting response... 200 OK\n",
            "Length: 124206982 (118M) [application/zip]\n",
            "Saving to: ‘AAAw1_JIzpuVvwteJCma0xMla?dl=0’\n",
            "\n",
            "AAAw1_JIzpuVvwteJCm 100%[===================>] 118.45M  82.9MB/s    in 1.4s    \n",
            "\n",
            "2020-12-31 04:12:00 (82.9 MB/s) - ‘AAAw1_JIzpuVvwteJCma0xMla?dl=0’ saved [124206982/124206982]\n",
            "\n"
          ],
          "name": "stdout"
        }
      ]
    },
    {
      "cell_type": "code",
      "metadata": {
        "colab": {
          "base_uri": "https://localhost:8080/"
        },
        "id": "4xF1uYW5O0Md",
        "outputId": "2b219bce-a709-4789-db5b-8284bfe09474"
      },
      "source": [
        "!unzip AAAw1_JIzpuVvwteJCma0xMla?dl=0"
      ],
      "execution_count": 3,
      "outputs": [
        {
          "output_type": "stream",
          "text": [
            "Archive:  AAAw1_JIzpuVvwteJCma0xMla?dl=0\n",
            "warning:  stripped absolute path spec from /\n",
            "mapname:  conversion of  failed\n",
            " extracting: train.csv               \n",
            "\n",
            "1 archive had fatal errors.\n"
          ],
          "name": "stdout"
        }
      ]
    },
    {
      "cell_type": "code",
      "metadata": {
        "id": "yrNHZoJGPLQ3"
      },
      "source": [
        "df = pd.read_csv('train.csv')"
      ],
      "execution_count": 4,
      "outputs": []
    },
    {
      "cell_type": "code",
      "metadata": {
        "colab": {
          "base_uri": "https://localhost:8080/",
          "height": 204
        },
        "id": "9SLScXH-Qsft",
        "outputId": "2a096b81-a7fd-474e-a35c-8cbe5ce47a12"
      },
      "source": [
        "\r\n",
        "df.head()"
      ],
      "execution_count": 5,
      "outputs": [
        {
          "output_type": "execute_result",
          "data": {
            "text/html": [
              "<div>\n",
              "<style scoped>\n",
              "    .dataframe tbody tr th:only-of-type {\n",
              "        vertical-align: middle;\n",
              "    }\n",
              "\n",
              "    .dataframe tbody tr th {\n",
              "        vertical-align: top;\n",
              "    }\n",
              "\n",
              "    .dataframe thead th {\n",
              "        text-align: right;\n",
              "    }\n",
              "</style>\n",
              "<table border=\"1\" class=\"dataframe\">\n",
              "  <thead>\n",
              "    <tr style=\"text-align: right;\">\n",
              "      <th></th>\n",
              "      <th>qid</th>\n",
              "      <th>question_text</th>\n",
              "      <th>target</th>\n",
              "    </tr>\n",
              "  </thead>\n",
              "  <tbody>\n",
              "    <tr>\n",
              "      <th>0</th>\n",
              "      <td>00002165364db923c7e6</td>\n",
              "      <td>How did Quebec nationalists see their province...</td>\n",
              "      <td>0</td>\n",
              "    </tr>\n",
              "    <tr>\n",
              "      <th>1</th>\n",
              "      <td>000032939017120e6e44</td>\n",
              "      <td>Do you have an adopted dog, how would you enco...</td>\n",
              "      <td>0</td>\n",
              "    </tr>\n",
              "    <tr>\n",
              "      <th>2</th>\n",
              "      <td>0000412ca6e4628ce2cf</td>\n",
              "      <td>Why does velocity affect time? Does velocity a...</td>\n",
              "      <td>0</td>\n",
              "    </tr>\n",
              "    <tr>\n",
              "      <th>3</th>\n",
              "      <td>000042bf85aa498cd78e</td>\n",
              "      <td>How did Otto von Guericke used the Magdeburg h...</td>\n",
              "      <td>0</td>\n",
              "    </tr>\n",
              "    <tr>\n",
              "      <th>4</th>\n",
              "      <td>0000455dfa3e01eae3af</td>\n",
              "      <td>Can I convert montra helicon D to a mountain b...</td>\n",
              "      <td>0</td>\n",
              "    </tr>\n",
              "  </tbody>\n",
              "</table>\n",
              "</div>"
            ],
            "text/plain": [
              "                    qid  ... target\n",
              "0  00002165364db923c7e6  ...      0\n",
              "1  000032939017120e6e44  ...      0\n",
              "2  0000412ca6e4628ce2cf  ...      0\n",
              "3  000042bf85aa498cd78e  ...      0\n",
              "4  0000455dfa3e01eae3af  ...      0\n",
              "\n",
              "[5 rows x 3 columns]"
            ]
          },
          "metadata": {
            "tags": []
          },
          "execution_count": 5
        }
      ]
    },
    {
      "cell_type": "code",
      "metadata": {
        "colab": {
          "base_uri": "https://localhost:8080/"
        },
        "id": "yN2XK2khQ8BO",
        "outputId": "4b1b5e36-839f-496d-ef7e-5c2904a90950"
      },
      "source": [
        "df.shape"
      ],
      "execution_count": 6,
      "outputs": [
        {
          "output_type": "execute_result",
          "data": {
            "text/plain": [
              "(1306122, 3)"
            ]
          },
          "metadata": {
            "tags": []
          },
          "execution_count": 6
        }
      ]
    },
    {
      "cell_type": "code",
      "metadata": {
        "colab": {
          "base_uri": "https://localhost:8080/"
        },
        "id": "2T82GfeEQ-ZE",
        "outputId": "ed499af4-8537-4010-9235-5499a4418e03"
      },
      "source": [
        "df['target'].value_counts()"
      ],
      "execution_count": 7,
      "outputs": [
        {
          "output_type": "execute_result",
          "data": {
            "text/plain": [
              "0    1225312\n",
              "1      80810\n",
              "Name: target, dtype: int64"
            ]
          },
          "metadata": {
            "tags": []
          },
          "execution_count": 7
        }
      ]
    },
    {
      "cell_type": "code",
      "metadata": {
        "colab": {
          "base_uri": "https://localhost:8080/"
        },
        "id": "tB_qjsO6RD68",
        "outputId": "6a2e9573-11b4-4aba-de82-55be2929489f"
      },
      "source": [
        "# Download the glove embedding\r\n",
        "\r\n",
        "!wget http://nlp.stanford.edu/data/glove.6B.zip"
      ],
      "execution_count": 8,
      "outputs": [
        {
          "output_type": "stream",
          "text": [
            "--2020-12-31 04:12:58--  http://nlp.stanford.edu/data/glove.6B.zip\n",
            "Resolving nlp.stanford.edu (nlp.stanford.edu)... 171.64.67.140\n",
            "Connecting to nlp.stanford.edu (nlp.stanford.edu)|171.64.67.140|:80... connected.\n",
            "HTTP request sent, awaiting response... 302 Found\n",
            "Location: https://nlp.stanford.edu/data/glove.6B.zip [following]\n",
            "--2020-12-31 04:12:58--  https://nlp.stanford.edu/data/glove.6B.zip\n",
            "Connecting to nlp.stanford.edu (nlp.stanford.edu)|171.64.67.140|:443... connected.\n",
            "HTTP request sent, awaiting response... 301 Moved Permanently\n",
            "Location: http://downloads.cs.stanford.edu/nlp/data/glove.6B.zip [following]\n",
            "--2020-12-31 04:12:58--  http://downloads.cs.stanford.edu/nlp/data/glove.6B.zip\n",
            "Resolving downloads.cs.stanford.edu (downloads.cs.stanford.edu)... 171.64.64.22\n",
            "Connecting to downloads.cs.stanford.edu (downloads.cs.stanford.edu)|171.64.64.22|:80... connected.\n",
            "HTTP request sent, awaiting response... 200 OK\n",
            "Length: 862182613 (822M) [application/zip]\n",
            "Saving to: ‘glove.6B.zip’\n",
            "\n",
            "glove.6B.zip        100%[===================>] 822.24M  1.99MB/s    in 6m 28s  \n",
            "\n",
            "2020-12-31 04:19:27 (2.12 MB/s) - ‘glove.6B.zip’ saved [862182613/862182613]\n",
            "\n"
          ],
          "name": "stdout"
        }
      ]
    },
    {
      "cell_type": "code",
      "metadata": {
        "colab": {
          "base_uri": "https://localhost:8080/"
        },
        "id": "RWw3xyXGRMBI",
        "outputId": "43057824-68ba-40c5-e2fd-2886b13a0f95"
      },
      "source": [
        "!unzip glove.6B.zip"
      ],
      "execution_count": 9,
      "outputs": [
        {
          "output_type": "stream",
          "text": [
            "Archive:  glove.6B.zip\n",
            "  inflating: glove.6B.50d.txt        \n",
            "  inflating: glove.6B.100d.txt       \n",
            "  inflating: glove.6B.200d.txt       \n",
            "  inflating: glove.6B.300d.txt       \n"
          ],
          "name": "stdout"
        }
      ]
    },
    {
      "cell_type": "code",
      "metadata": {
        "colab": {
          "base_uri": "https://localhost:8080/"
        },
        "id": "oY7SE_6_TCXQ",
        "outputId": "5e442d50-dcef-4283-eeb4-22ed15c568a6"
      },
      "source": [
        "df['length']=[len(x) for x in df['question_text']]\r\n",
        "df['length'].max(), df['length'].min()"
      ],
      "execution_count": null,
      "outputs": [
        {
          "output_type": "execute_result",
          "data": {
            "text/plain": [
              "(1017, 1)"
            ]
          },
          "metadata": {
            "tags": []
          },
          "execution_count": 13
        }
      ]
    },
    {
      "cell_type": "code",
      "metadata": {
        "colab": {
          "base_uri": "https://localhost:8080/"
        },
        "id": "4PDuQVeATcOC",
        "outputId": "033eabfc-f302-439e-d2db-de4301727425"
      },
      "source": [
        "df.isnull().sum()"
      ],
      "execution_count": 10,
      "outputs": [
        {
          "output_type": "execute_result",
          "data": {
            "text/plain": [
              "qid              0\n",
              "question_text    0\n",
              "target           0\n",
              "dtype: int64"
            ]
          },
          "metadata": {
            "tags": []
          },
          "execution_count": 10
        }
      ]
    },
    {
      "cell_type": "code",
      "metadata": {
        "id": "V3lvwSauTe1P"
      },
      "source": [
        "X = df['question_text'].values\r\n",
        "y = df['target'].values"
      ],
      "execution_count": 11,
      "outputs": []
    },
    {
      "cell_type": "code",
      "metadata": {
        "colab": {
          "base_uri": "https://localhost:8080/"
        },
        "id": "eL-cg4TdThJy",
        "outputId": "abf1ad23-62d6-476f-ec41-d6538bf5d8a6"
      },
      "source": [
        "from keras.preprocessing.text import Tokenizer\r\n",
        "from keras.preprocessing.sequence import pad_sequences\r\n",
        "# prepare tokenizer\r\n",
        "t = Tokenizer()\r\n",
        "t.fit_on_texts(X)\r\n",
        "vocab_size = len(t.word_index) + 1\r\n",
        "#word to integers\r\n",
        "encoded_word = t.texts_to_sequences(X)\r\n",
        "# pad documents to a max length of 20 words\r\n",
        "max_length = 20\r\n",
        "padded_word = pad_sequences(encoded_word, maxlen=max_length, padding='post')\r\n",
        "print(len(padded_word))"
      ],
      "execution_count": 18,
      "outputs": [
        {
          "output_type": "stream",
          "text": [
            "IOPub data rate exceeded.\n",
            "The notebook server will temporarily stop sending output\n",
            "to the client in order to avoid crashing it.\n",
            "To change this limit, set the config variable\n",
            "`--NotebookApp.iopub_data_rate_limit`.\n",
            "\n",
            "Current values:\n",
            "NotebookApp.iopub_data_rate_limit=1000000.0 (bytes/sec)\n",
            "NotebookApp.rate_limit_window=3.0 (secs)\n",
            "\n"
          ],
          "name": "stderr"
        },
        {
          "output_type": "stream",
          "text": [
            "1306122\n"
          ],
          "name": "stdout"
        }
      ]
    },
    {
      "cell_type": "code",
      "metadata": {
        "colab": {
          "base_uri": "https://localhost:8080/"
        },
        "id": "z9XsEZTxDIq9",
        "outputId": "395a2b47-d965-40b2-8aff-839a72ba7190"
      },
      "source": [
        "padded_word.shape"
      ],
      "execution_count": 19,
      "outputs": [
        {
          "output_type": "execute_result",
          "data": {
            "text/plain": [
              "(1306122, 20)"
            ]
          },
          "metadata": {
            "tags": []
          },
          "execution_count": 19
        }
      ]
    },
    {
      "cell_type": "code",
      "metadata": {
        "id": "4KH5tsnWTllu"
      },
      "source": [
        "from sklearn.model_selection import train_test_split\r\n",
        "X_train, X_test, y_train, y_test = train_test_split(padded_word, y, test_size=0.2, random_state=42)"
      ],
      "execution_count": 20,
      "outputs": []
    },
    {
      "cell_type": "code",
      "metadata": {
        "colab": {
          "base_uri": "https://localhost:8080/"
        },
        "id": "yXccqT2ITp8J",
        "outputId": "c40c1587-1d08-4ba4-edc6-d32a40aea83d"
      },
      "source": [
        "embeddings_index = dict()\r\n",
        "f = open(\"/content/glove.6B.100d.txt\")\r\n",
        "for line in f:\r\n",
        "    values = line.split()\r\n",
        "    word = values[0]\r\n",
        "    coefs = np.asarray(values[1:], dtype='float32')\r\n",
        "    embeddings_index[word] = coefs\r\n",
        "f.close()\r\n",
        "print('Loaded %s word vectors.' % len(embeddings_index))"
      ],
      "execution_count": 21,
      "outputs": [
        {
          "output_type": "stream",
          "text": [
            "Loaded 400000 word vectors.\n"
          ],
          "name": "stdout"
        }
      ]
    },
    {
      "cell_type": "code",
      "metadata": {
        "colab": {
          "base_uri": "https://localhost:8080/"
        },
        "id": "pM1aTGNVT906",
        "outputId": "dcd24cec-6a4d-4a10-c932-e9fde1a4aabd"
      },
      "source": [
        "embedding_matrix = np.zeros((vocab_size, 100))\r\n",
        "for word, i in t.word_index.items():\r\n",
        "    embedding_vector = embeddings_index.get(word)\r\n",
        "    if embedding_vector is not None:\r\n",
        "        embedding_matrix[i] = embedding_vector\r\n",
        "\r\n",
        "print(embedding_matrix.shape)"
      ],
      "execution_count": 22,
      "outputs": [
        {
          "output_type": "stream",
          "text": [
            "(222162, 100)\n"
          ],
          "name": "stdout"
        }
      ]
    },
    {
      "cell_type": "code",
      "metadata": {
        "colab": {
          "base_uri": "https://localhost:8080/"
        },
        "id": "GQouUH-aUDBZ",
        "outputId": "07d69a7f-4e0a-40d2-8953-278e0fa3a704"
      },
      "source": [
        "from keras.models import Sequential\r\n",
        "from keras.layers import Dense, Flatten\r\n",
        "from keras.layers.embeddings import Embedding\r\n",
        "\r\n",
        "# define the model\r\n",
        "model = Sequential()\r\n",
        "model.add(Embedding(vocab_size, 100, weights=[embedding_matrix], input_length=20, trainable=False))\r\n",
        "model.add(Flatten())\r\n",
        "model.add(Dense(1, activation='sigmoid'))\r\n",
        "\r\n",
        "# compile the model\r\n",
        "model.compile(optimizer='adam', loss='binary_crossentropy', metrics=['accuracy'])\r\n",
        "\r\n",
        "# summarize the model\r\n",
        "print(model.summary())"
      ],
      "execution_count": 23,
      "outputs": [
        {
          "output_type": "stream",
          "text": [
            "Model: \"sequential\"\n",
            "_________________________________________________________________\n",
            "Layer (type)                 Output Shape              Param #   \n",
            "=================================================================\n",
            "embedding (Embedding)        (None, 20, 100)           22216200  \n",
            "_________________________________________________________________\n",
            "flatten (Flatten)            (None, 2000)              0         \n",
            "_________________________________________________________________\n",
            "dense (Dense)                (None, 1)                 2001      \n",
            "=================================================================\n",
            "Total params: 22,218,201\n",
            "Trainable params: 2,001\n",
            "Non-trainable params: 22,216,200\n",
            "_________________________________________________________________\n",
            "None\n"
          ],
          "name": "stdout"
        }
      ]
    },
    {
      "cell_type": "code",
      "metadata": {
        "colab": {
          "base_uri": "https://localhost:8080/"
        },
        "id": "-9eVFZ9nUEwq",
        "outputId": "e0cc2844-94e4-41c1-fe95-ca9189c20014"
      },
      "source": [
        "import keras\r\n",
        "h = model.fit(\r\n",
        "    X_train, y_train,\r\n",
        "    validation_data=(X_test, y_test),\r\n",
        "    epochs=30, batch_size=512,\r\n",
        "    callbacks=[\r\n",
        "        keras.callbacks.EarlyStopping(monitor='val_accuracy', patience=5)    ]\r\n",
        ")"
      ],
      "execution_count": 24,
      "outputs": [
        {
          "output_type": "stream",
          "text": [
            "Epoch 1/30\n",
            "2041/2041 [==============================] - 12s 5ms/step - loss: 0.1890 - accuracy: 0.9341 - val_loss: 0.1497 - val_accuracy: 0.9448\n",
            "Epoch 2/30\n",
            "2041/2041 [==============================] - 10s 5ms/step - loss: 0.1517 - accuracy: 0.9438 - val_loss: 0.1479 - val_accuracy: 0.9457\n",
            "Epoch 3/30\n",
            "2041/2041 [==============================] - 10s 5ms/step - loss: 0.1488 - accuracy: 0.9448 - val_loss: 0.1474 - val_accuracy: 0.9455\n",
            "Epoch 4/30\n",
            "2041/2041 [==============================] - 10s 5ms/step - loss: 0.1490 - accuracy: 0.9442 - val_loss: 0.1467 - val_accuracy: 0.9454\n",
            "Epoch 5/30\n",
            "2041/2041 [==============================] - 10s 5ms/step - loss: 0.1477 - accuracy: 0.9449 - val_loss: 0.1470 - val_accuracy: 0.9457\n",
            "Epoch 6/30\n",
            "2041/2041 [==============================] - 9s 5ms/step - loss: 0.1488 - accuracy: 0.9444 - val_loss: 0.1476 - val_accuracy: 0.9451\n",
            "Epoch 7/30\n",
            "2041/2041 [==============================] - 10s 5ms/step - loss: 0.1476 - accuracy: 0.9451 - val_loss: 0.1464 - val_accuracy: 0.9456\n"
          ],
          "name": "stdout"
        }
      ]
    },
    {
      "cell_type": "code",
      "metadata": {
        "id": "zouLtlV4UPtK"
      },
      "source": [
        ""
      ],
      "execution_count": null,
      "outputs": []
    }
  ]
}