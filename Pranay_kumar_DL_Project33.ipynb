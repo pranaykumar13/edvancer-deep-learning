{
  "nbformat": 4,
  "nbformat_minor": 0,
  "metadata": {
    "colab": {
      "name": "quora.ipynb",
      "provenance": [],
      "collapsed_sections": []
    },
    "kernelspec": {
      "name": "python3",
      "display_name": "Python 3"
    },
    "accelerator": "GPU"
  },
  "cells": [
    {
      "cell_type": "code",
      "metadata": {
        "colab": {
          "base_uri": "https://localhost:8080/"
        },
        "id": "goLXVcta_eKg",
        "outputId": "dc0901a5-a488-4c55-ed78-75f7fbe751f3"
      },
      "source": [
        "!wget https://www.dropbox.com/sh/kpf9z73woodfssv/AAAw1_JIzpuVvwteJCma0xMla?dl=0"
      ],
      "execution_count": null,
      "outputs": [
        {
          "output_type": "stream",
          "text": [
            "--2021-03-03 13:11:19--  https://www.dropbox.com/sh/kpf9z73woodfssv/AAAw1_JIzpuVvwteJCma0xMla?dl=0\n",
            "Resolving www.dropbox.com (www.dropbox.com)... 162.125.6.18, 2620:100:601c:18::a27d:612\n",
            "Connecting to www.dropbox.com (www.dropbox.com)|162.125.6.18|:443... connected.\n",
            "HTTP request sent, awaiting response... 301 Moved Permanently\n",
            "Location: /sh/raw/kpf9z73woodfssv/AAAw1_JIzpuVvwteJCma0xMla [following]\n",
            "--2021-03-03 13:11:19--  https://www.dropbox.com/sh/raw/kpf9z73woodfssv/AAAw1_JIzpuVvwteJCma0xMla\n",
            "Reusing existing connection to www.dropbox.com:443.\n",
            "HTTP request sent, awaiting response... 302 Found\n",
            "Location: https://uc974ffbc0662204180a4c7c0c53.dl.dropboxusercontent.com/zip_download_get/AtZAho1GtteCPOECr04VPLf7ZaDVUaJXVQzR8RoSJSYfSrLAH8LpsPow94Botu9zRHaVb0JeEWCg5X5XSrnzBPhV6VbZZjqZj2Zcedu2XNeMOg [following]\n",
            "--2021-03-03 13:11:19--  https://uc974ffbc0662204180a4c7c0c53.dl.dropboxusercontent.com/zip_download_get/AtZAho1GtteCPOECr04VPLf7ZaDVUaJXVQzR8RoSJSYfSrLAH8LpsPow94Botu9zRHaVb0JeEWCg5X5XSrnzBPhV6VbZZjqZj2Zcedu2XNeMOg\n",
            "Resolving uc974ffbc0662204180a4c7c0c53.dl.dropboxusercontent.com (uc974ffbc0662204180a4c7c0c53.dl.dropboxusercontent.com)... 162.125.6.15, 2620:100:601c:15::a27d:60f\n",
            "Connecting to uc974ffbc0662204180a4c7c0c53.dl.dropboxusercontent.com (uc974ffbc0662204180a4c7c0c53.dl.dropboxusercontent.com)|162.125.6.15|:443... connected.\n",
            "HTTP request sent, awaiting response... 200 OK\n",
            "Length: 124206982 (118M) [application/zip]\n",
            "Saving to: ‘AAAw1_JIzpuVvwteJCma0xMla?dl=0’\n",
            "\n",
            "AAAw1_JIzpuVvwteJCm 100%[===================>] 118.45M   115MB/s    in 1.0s    \n",
            "\n",
            "2021-03-03 13:11:21 (115 MB/s) - ‘AAAw1_JIzpuVvwteJCma0xMla?dl=0’ saved [124206982/124206982]\n",
            "\n"
          ],
          "name": "stdout"
        }
      ]
    },
    {
      "cell_type": "code",
      "metadata": {
        "colab": {
          "base_uri": "https://localhost:8080/"
        },
        "id": "rjtRZMTMCyB6",
        "outputId": "7f9caac5-c683-4607-b868-f7cb5c37d685"
      },
      "source": [
        "!unzip /content/AAAw1_JIzpuVvwteJCma0xMla?dl=0\n"
      ],
      "execution_count": null,
      "outputs": [
        {
          "output_type": "stream",
          "text": [
            "Archive:  /content/AAAw1_JIzpuVvwteJCma0xMla?dl=0\n",
            "warning:  stripped absolute path spec from /\n",
            "mapname:  conversion of  failed\n",
            " extracting: train.csv               \n",
            "\n",
            "1 archive had fatal errors.\n"
          ],
          "name": "stdout"
        }
      ]
    },
    {
      "cell_type": "code",
      "metadata": {
        "id": "eR-6a2_PAK9k"
      },
      "source": [
        "import pandas as pd\n",
        "data = pd.read_csv(r\"/content/train.csv\")"
      ],
      "execution_count": null,
      "outputs": []
    },
    {
      "cell_type": "code",
      "metadata": {
        "colab": {
          "base_uri": "https://localhost:8080/",
          "height": 204
        },
        "id": "RlryFg7HDDn_",
        "outputId": "4e7457b5-3cd4-4447-c467-528724c1209a"
      },
      "source": [
        "data.head()"
      ],
      "execution_count": null,
      "outputs": [
        {
          "output_type": "execute_result",
          "data": {
            "text/html": [
              "<div>\n",
              "<style scoped>\n",
              "    .dataframe tbody tr th:only-of-type {\n",
              "        vertical-align: middle;\n",
              "    }\n",
              "\n",
              "    .dataframe tbody tr th {\n",
              "        vertical-align: top;\n",
              "    }\n",
              "\n",
              "    .dataframe thead th {\n",
              "        text-align: right;\n",
              "    }\n",
              "</style>\n",
              "<table border=\"1\" class=\"dataframe\">\n",
              "  <thead>\n",
              "    <tr style=\"text-align: right;\">\n",
              "      <th></th>\n",
              "      <th>qid</th>\n",
              "      <th>question_text</th>\n",
              "      <th>target</th>\n",
              "    </tr>\n",
              "  </thead>\n",
              "  <tbody>\n",
              "    <tr>\n",
              "      <th>0</th>\n",
              "      <td>00002165364db923c7e6</td>\n",
              "      <td>How did Quebec nationalists see their province...</td>\n",
              "      <td>0</td>\n",
              "    </tr>\n",
              "    <tr>\n",
              "      <th>1</th>\n",
              "      <td>000032939017120e6e44</td>\n",
              "      <td>Do you have an adopted dog, how would you enco...</td>\n",
              "      <td>0</td>\n",
              "    </tr>\n",
              "    <tr>\n",
              "      <th>2</th>\n",
              "      <td>0000412ca6e4628ce2cf</td>\n",
              "      <td>Why does velocity affect time? Does velocity a...</td>\n",
              "      <td>0</td>\n",
              "    </tr>\n",
              "    <tr>\n",
              "      <th>3</th>\n",
              "      <td>000042bf85aa498cd78e</td>\n",
              "      <td>How did Otto von Guericke used the Magdeburg h...</td>\n",
              "      <td>0</td>\n",
              "    </tr>\n",
              "    <tr>\n",
              "      <th>4</th>\n",
              "      <td>0000455dfa3e01eae3af</td>\n",
              "      <td>Can I convert montra helicon D to a mountain b...</td>\n",
              "      <td>0</td>\n",
              "    </tr>\n",
              "  </tbody>\n",
              "</table>\n",
              "</div>"
            ],
            "text/plain": [
              "                    qid  ... target\n",
              "0  00002165364db923c7e6  ...      0\n",
              "1  000032939017120e6e44  ...      0\n",
              "2  0000412ca6e4628ce2cf  ...      0\n",
              "3  000042bf85aa498cd78e  ...      0\n",
              "4  0000455dfa3e01eae3af  ...      0\n",
              "\n",
              "[5 rows x 3 columns]"
            ]
          },
          "metadata": {
            "tags": []
          },
          "execution_count": 4
        }
      ]
    },
    {
      "cell_type": "code",
      "metadata": {
        "id": "J9mmqzuJDhCm"
      },
      "source": [
        "data.drop([\"qid\"],axis=1,inplace=True)"
      ],
      "execution_count": null,
      "outputs": []
    },
    {
      "cell_type": "code",
      "metadata": {
        "colab": {
          "base_uri": "https://localhost:8080/",
          "height": 204
        },
        "id": "8csnRTlaFrB0",
        "outputId": "7db2cd48-0c62-4fef-b4d2-50a0fc2723b3"
      },
      "source": [
        "data.head()"
      ],
      "execution_count": null,
      "outputs": [
        {
          "output_type": "execute_result",
          "data": {
            "text/html": [
              "<div>\n",
              "<style scoped>\n",
              "    .dataframe tbody tr th:only-of-type {\n",
              "        vertical-align: middle;\n",
              "    }\n",
              "\n",
              "    .dataframe tbody tr th {\n",
              "        vertical-align: top;\n",
              "    }\n",
              "\n",
              "    .dataframe thead th {\n",
              "        text-align: right;\n",
              "    }\n",
              "</style>\n",
              "<table border=\"1\" class=\"dataframe\">\n",
              "  <thead>\n",
              "    <tr style=\"text-align: right;\">\n",
              "      <th></th>\n",
              "      <th>question_text</th>\n",
              "      <th>target</th>\n",
              "    </tr>\n",
              "  </thead>\n",
              "  <tbody>\n",
              "    <tr>\n",
              "      <th>0</th>\n",
              "      <td>How did Quebec nationalists see their province...</td>\n",
              "      <td>0</td>\n",
              "    </tr>\n",
              "    <tr>\n",
              "      <th>1</th>\n",
              "      <td>Do you have an adopted dog, how would you enco...</td>\n",
              "      <td>0</td>\n",
              "    </tr>\n",
              "    <tr>\n",
              "      <th>2</th>\n",
              "      <td>Why does velocity affect time? Does velocity a...</td>\n",
              "      <td>0</td>\n",
              "    </tr>\n",
              "    <tr>\n",
              "      <th>3</th>\n",
              "      <td>How did Otto von Guericke used the Magdeburg h...</td>\n",
              "      <td>0</td>\n",
              "    </tr>\n",
              "    <tr>\n",
              "      <th>4</th>\n",
              "      <td>Can I convert montra helicon D to a mountain b...</td>\n",
              "      <td>0</td>\n",
              "    </tr>\n",
              "  </tbody>\n",
              "</table>\n",
              "</div>"
            ],
            "text/plain": [
              "                                       question_text  target\n",
              "0  How did Quebec nationalists see their province...       0\n",
              "1  Do you have an adopted dog, how would you enco...       0\n",
              "2  Why does velocity affect time? Does velocity a...       0\n",
              "3  How did Otto von Guericke used the Magdeburg h...       0\n",
              "4  Can I convert montra helicon D to a mountain b...       0"
            ]
          },
          "metadata": {
            "tags": []
          },
          "execution_count": 6
        }
      ]
    },
    {
      "cell_type": "code",
      "metadata": {
        "colab": {
          "base_uri": "https://localhost:8080/"
        },
        "id": "4SJkmVqtF2ob",
        "outputId": "130b469f-2b9b-4974-a4e0-d419e85fa700"
      },
      "source": [
        "!wget http://nlp.stanford.edu/data/glove.42B.300d.zip"
      ],
      "execution_count": null,
      "outputs": [
        {
          "output_type": "stream",
          "text": [
            "--2021-03-03 13:11:24--  http://nlp.stanford.edu/data/glove.42B.300d.zip\n",
            "Resolving nlp.stanford.edu (nlp.stanford.edu)... 171.64.67.140\n",
            "Connecting to nlp.stanford.edu (nlp.stanford.edu)|171.64.67.140|:80... connected.\n",
            "HTTP request sent, awaiting response... 302 Found\n",
            "Location: https://nlp.stanford.edu/data/glove.42B.300d.zip [following]\n",
            "--2021-03-03 13:11:24--  https://nlp.stanford.edu/data/glove.42B.300d.zip\n",
            "Connecting to nlp.stanford.edu (nlp.stanford.edu)|171.64.67.140|:443... connected.\n",
            "HTTP request sent, awaiting response... 301 Moved Permanently\n",
            "Location: http://downloads.cs.stanford.edu/nlp/data/glove.42B.300d.zip [following]\n",
            "--2021-03-03 13:11:25--  http://downloads.cs.stanford.edu/nlp/data/glove.42B.300d.zip\n",
            "Resolving downloads.cs.stanford.edu (downloads.cs.stanford.edu)... 171.64.64.22\n",
            "Connecting to downloads.cs.stanford.edu (downloads.cs.stanford.edu)|171.64.64.22|:80... connected.\n",
            "HTTP request sent, awaiting response... 200 OK\n",
            "Length: 1877800501 (1.7G) [application/zip]\n",
            "Saving to: ‘glove.42B.300d.zip’\n",
            "\n",
            "glove.42B.300d.zip  100%[===================>]   1.75G  2.07MB/s    in 14m 56s \n",
            "\n",
            "2021-03-03 13:26:21 (2.00 MB/s) - ‘glove.42B.300d.zip’ saved [1877800501/1877800501]\n",
            "\n"
          ],
          "name": "stdout"
        }
      ]
    },
    {
      "cell_type": "code",
      "metadata": {
        "colab": {
          "base_uri": "https://localhost:8080/"
        },
        "id": "eS69bvfFGeBT",
        "outputId": "38cd0cda-2226-4e05-a724-aa9176cfbae3"
      },
      "source": [
        "!unzip /content/glove.42B.300d.zip"
      ],
      "execution_count": null,
      "outputs": [
        {
          "output_type": "stream",
          "text": [
            "Archive:  /content/glove.42B.300d.zip\n",
            "  inflating: glove.42B.300d.txt      \n"
          ],
          "name": "stdout"
        }
      ]
    },
    {
      "cell_type": "code",
      "metadata": {
        "id": "2mTljWoFKdoJ"
      },
      "source": [
        "!rm /content/glove.42B.300d.zip"
      ],
      "execution_count": null,
      "outputs": []
    },
    {
      "cell_type": "code",
      "metadata": {
        "id": "iSvQiU7eK4yy"
      },
      "source": [
        "import numpy as np"
      ],
      "execution_count": null,
      "outputs": []
    },
    {
      "cell_type": "code",
      "metadata": {
        "id": "dGEoEWw0KzL5"
      },
      "source": [
        "embeding_index={}\n",
        "\n",
        "f=open('glove.42B.300d.txt',encoding='utf-8')\n",
        "\n",
        "for line in f:\n",
        "    values=line.split()\n",
        "    word=values[0]\n",
        "    coefs=np.asarray(values[1:],dtype='float32')\n",
        "    embeding_index[word]=coefs\n",
        "f.close()\n",
        "# this again will take good amount of time"
      ],
      "execution_count": null,
      "outputs": []
    },
    {
      "cell_type": "code",
      "metadata": {
        "id": "tWNe3A6oK3ZM"
      },
      "source": [
        "from sklearn.model_selection import train_test_split\n",
        "data_train,data_test=train_test_split(data,test_size=0.2)"
      ],
      "execution_count": null,
      "outputs": []
    },
    {
      "cell_type": "code",
      "metadata": {
        "id": "tonzvgY1MHpj"
      },
      "source": [
        "x_train=data_train['question_text']\n",
        "y_train=data_train['target']\n",
        "x_test=data_test['question_text']\n",
        "y_test=data_test['target']"
      ],
      "execution_count": null,
      "outputs": []
    },
    {
      "cell_type": "code",
      "metadata": {
        "id": "hd-PIhIEMTjT"
      },
      "source": [
        "from tensorflow.keras.preprocessing.text import Tokenizer\n",
        "from tensorflow.keras.preprocessing import sequence\n",
        "from tensorflow.keras.layers import LSTM,Activation,Dense,Input,Embedding,Dropout\n",
        "from tensorflow.keras.models import Model"
      ],
      "execution_count": null,
      "outputs": []
    },
    {
      "cell_type": "code",
      "metadata": {
        "id": "MgOGOeQ5MWOv"
      },
      "source": [
        "from nltk import word_tokenize"
      ],
      "execution_count": null,
      "outputs": []
    },
    {
      "cell_type": "code",
      "metadata": {
        "colab": {
          "base_uri": "https://localhost:8080/"
        },
        "id": "3T8YfAuHMaW5",
        "outputId": "52616a63-a87d-475d-d7f1-b0bcd7922c83"
      },
      "source": [
        "import nltk\n",
        "nltk.download('punkt')"
      ],
      "execution_count": null,
      "outputs": [
        {
          "output_type": "stream",
          "text": [
            "[nltk_data] Downloading package punkt to /root/nltk_data...\n",
            "[nltk_data]   Unzipping tokenizers/punkt.zip.\n"
          ],
          "name": "stdout"
        },
        {
          "output_type": "execute_result",
          "data": {
            "text/plain": [
              "True"
            ]
          },
          "metadata": {
            "tags": []
          },
          "execution_count": 16
        }
      ]
    },
    {
      "cell_type": "code",
      "metadata": {
        "id": "-zIlSUtWMejA"
      },
      "source": [
        "sent_lens=[len(word_tokenize(x)) for x in x_train]"
      ],
      "execution_count": null,
      "outputs": []
    },
    {
      "cell_type": "code",
      "metadata": {
        "colab": {
          "base_uri": "https://localhost:8080/"
        },
        "id": "j2OPUen0Mjvt",
        "outputId": "14951756-49c4-4c6a-9d6a-3d62813cfb52"
      },
      "source": [
        "np.percentile(sent_lens,95)"
      ],
      "execution_count": null,
      "outputs": [
        {
          "output_type": "execute_result",
          "data": {
            "text/plain": [
              "30.0"
            ]
          },
          "metadata": {
            "tags": []
          },
          "execution_count": 18
        }
      ]
    },
    {
      "cell_type": "code",
      "metadata": {
        "id": "SEPax70PMm2e"
      },
      "source": [
        "max_len=30\n",
        "\n",
        "tk=Tokenizer(char_level=False,split=' ')\n",
        "\n",
        "tk.fit_on_texts(x_train)\n",
        "\n",
        "seq_train=tk.texts_to_sequences(x_train)\n",
        "seq_test=tk.texts_to_sequences(x_test)\n",
        "\n",
        "vocab_size=len(tk.word_index)\n",
        "\n",
        "seq_train_matrix=sequence.pad_sequences(seq_train,maxlen=max_len)\n",
        "seq_test_matrix=sequence.pad_sequences(seq_test,maxlen=max_len)"
      ],
      "execution_count": null,
      "outputs": []
    },
    {
      "cell_type": "code",
      "metadata": {
        "id": "kruTHe-1OH9E"
      },
      "source": [
        "embedding_matrix=np.zeros((vocab_size+1,300))\n",
        "words_not_available=0\n",
        "for word,i in tk.word_index.items():\n",
        "    embed_vector=embeding_index.get(word)\n",
        "    if embed_vector is not None:\n",
        "        embedding_matrix[i]=embed_vector\n",
        "    else:\n",
        "      words_not_available+=1"
      ],
      "execution_count": null,
      "outputs": []
    },
    {
      "cell_type": "code",
      "metadata": {
        "colab": {
          "base_uri": "https://localhost:8080/"
        },
        "id": "FApNxnT_OIv0",
        "outputId": "421363da-0662-47da-f823-bad389eef22a"
      },
      "source": [
        "words_not_available"
      ],
      "execution_count": null,
      "outputs": [
        {
          "output_type": "execute_result",
          "data": {
            "text/plain": [
              "62183"
            ]
          },
          "metadata": {
            "tags": []
          },
          "execution_count": 21
        }
      ]
    },
    {
      "cell_type": "code",
      "metadata": {
        "colab": {
          "base_uri": "https://localhost:8080/"
        },
        "id": "j9wyJ7NzOfWc",
        "outputId": "16ed45a6-5ce1-4257-cc62-82befda4d593"
      },
      "source": [
        "vocab_size"
      ],
      "execution_count": null,
      "outputs": [
        {
          "output_type": "execute_result",
          "data": {
            "text/plain": [
              "196171"
            ]
          },
          "metadata": {
            "tags": []
          },
          "execution_count": 22
        }
      ]
    },
    {
      "cell_type": "code",
      "metadata": {
        "id": "raMZM1DxEuz1"
      },
      "source": [
        "\n",
        "inputs=Input(name='text_input',shape=[max_len])\n",
        "embed=Embedding(vocab_size+1,300,input_length=max_len,mask_zero=True,\n",
        "                weights=[embedding_matrix],trainable=False)(inputs)\n",
        "lstm_layer=LSTM(50)(embed)\n",
        "dense1=Dense(10,activation='relu')(lstm_layer)\n",
        "drop=Dropout(0.2)(dense1)\n",
        "final_layer=Dense(1,activation='sigmoid')(drop)\n",
        "\n",
        "model=Model(inputs=inputs,outputs=final_layer)"
      ],
      "execution_count": null,
      "outputs": []
    },
    {
      "cell_type": "code",
      "metadata": {
        "colab": {
          "base_uri": "https://localhost:8080/"
        },
        "id": "weElL7DrEuw9",
        "outputId": "97891e8b-3d56-4eb2-ea42-a8e92310bff1"
      },
      "source": [
        "model.summary()"
      ],
      "execution_count": null,
      "outputs": [
        {
          "output_type": "stream",
          "text": [
            "Model: \"model\"\n",
            "_________________________________________________________________\n",
            "Layer (type)                 Output Shape              Param #   \n",
            "=================================================================\n",
            "text_input (InputLayer)      [(None, 30)]              0         \n",
            "_________________________________________________________________\n",
            "embedding (Embedding)        (None, 30, 300)           58851600  \n",
            "_________________________________________________________________\n",
            "lstm (LSTM)                  (None, 50)                70200     \n",
            "_________________________________________________________________\n",
            "dense (Dense)                (None, 10)                510       \n",
            "_________________________________________________________________\n",
            "dropout (Dropout)            (None, 10)                0         \n",
            "_________________________________________________________________\n",
            "dense_1 (Dense)              (None, 1)                 11        \n",
            "=================================================================\n",
            "Total params: 58,922,321\n",
            "Trainable params: 70,721\n",
            "Non-trainable params: 58,851,600\n",
            "_________________________________________________________________\n"
          ],
          "name": "stdout"
        }
      ]
    },
    {
      "cell_type": "code",
      "metadata": {
        "id": "FmMmkh8kEutV"
      },
      "source": [
        "model.compile(optimizer='adam',loss='binary_crossentropy',metrics=['accuracy'])"
      ],
      "execution_count": null,
      "outputs": []
    },
    {
      "cell_type": "code",
      "metadata": {
        "id": "zlqtBsLAHzTf"
      },
      "source": [
        "from sklearn.utils import class_weight\n",
        "cw = class_weight.compute_class_weight('balanced', \n",
        "                                                 np.unique(y_train), \n",
        "                                                    y_train)"
      ],
      "execution_count": null,
      "outputs": []
    },
    {
      "cell_type": "code",
      "metadata": {
        "colab": {
          "base_uri": "https://localhost:8080/"
        },
        "id": "nVRXTy1mIA7o",
        "outputId": "4f130879-63f4-4402-8a2f-86ad0656ba62"
      },
      "source": [
        "class_weight_dict = dict(enumerate(cw))\n",
        "class_weight_dict"
      ],
      "execution_count": null,
      "outputs": [
        {
          "output_type": "execute_result",
          "data": {
            "text/plain": [
              "{0: 0.5329704016697645, 1: 8.082558517303795}"
            ]
          },
          "metadata": {
            "tags": []
          },
          "execution_count": 27
        }
      ]
    },
    {
      "cell_type": "code",
      "metadata": {
        "colab": {
          "base_uri": "https://localhost:8080/"
        },
        "id": "AyXF92lHEur8",
        "outputId": "6dadc5ce-7b44-4ea2-f713-2fa9efba2fdb"
      },
      "source": [
        "model.fit(seq_train_matrix,y_train.values,validation_data=(seq_test_matrix,y_test.values),epochs=40,class_weight=class_weight_dict,\n",
        "          batch_size=30000)"
      ],
      "execution_count": null,
      "outputs": [
        {
          "output_type": "stream",
          "text": [
            "Epoch 1/40\n",
            "35/35 [==============================] - 29s 622ms/step - loss: 0.5956 - accuracy: 0.5336 - val_loss: 0.3236 - val_accuracy: 0.8695\n",
            "Epoch 2/40\n",
            "35/35 [==============================] - 20s 586ms/step - loss: 0.3516 - accuracy: 0.8554 - val_loss: 0.3143 - val_accuracy: 0.8699\n",
            "Epoch 3/40\n",
            "35/35 [==============================] - 20s 589ms/step - loss: 0.3179 - accuracy: 0.8645 - val_loss: 0.3045 - val_accuracy: 0.8699\n",
            "Epoch 4/40\n",
            "35/35 [==============================] - 21s 589ms/step - loss: 0.3065 - accuracy: 0.8680 - val_loss: 0.3064 - val_accuracy: 0.8680\n",
            "Epoch 5/40\n",
            "35/35 [==============================] - 21s 592ms/step - loss: 0.2982 - accuracy: 0.8705 - val_loss: 0.2655 - val_accuracy: 0.8892\n",
            "Epoch 6/40\n",
            "35/35 [==============================] - 21s 596ms/step - loss: 0.2920 - accuracy: 0.8741 - val_loss: 0.2748 - val_accuracy: 0.8848\n",
            "Epoch 7/40\n",
            "35/35 [==============================] - 21s 599ms/step - loss: 0.2864 - accuracy: 0.8774 - val_loss: 0.2794 - val_accuracy: 0.8801\n",
            "Epoch 8/40\n",
            "35/35 [==============================] - 21s 600ms/step - loss: 0.2786 - accuracy: 0.8801 - val_loss: 0.2496 - val_accuracy: 0.8954\n",
            "Epoch 9/40\n",
            "35/35 [==============================] - 21s 600ms/step - loss: 0.2774 - accuracy: 0.8807 - val_loss: 0.2641 - val_accuracy: 0.8890\n",
            "Epoch 10/40\n",
            "35/35 [==============================] - 21s 603ms/step - loss: 0.2704 - accuracy: 0.8830 - val_loss: 0.2881 - val_accuracy: 0.8778\n",
            "Epoch 11/40\n",
            "35/35 [==============================] - 21s 601ms/step - loss: 0.2668 - accuracy: 0.8847 - val_loss: 0.2587 - val_accuracy: 0.8926\n",
            "Epoch 12/40\n",
            "35/35 [==============================] - 21s 600ms/step - loss: 0.2628 - accuracy: 0.8879 - val_loss: 0.2534 - val_accuracy: 0.8942\n",
            "Epoch 13/40\n",
            "35/35 [==============================] - 21s 604ms/step - loss: 0.2569 - accuracy: 0.8897 - val_loss: 0.2630 - val_accuracy: 0.8895\n",
            "Epoch 14/40\n",
            "35/35 [==============================] - 21s 601ms/step - loss: 0.2539 - accuracy: 0.8896 - val_loss: 0.2578 - val_accuracy: 0.8907\n",
            "Epoch 15/40\n",
            "35/35 [==============================] - 21s 602ms/step - loss: 0.2541 - accuracy: 0.8919 - val_loss: 0.2561 - val_accuracy: 0.8909\n",
            "Epoch 16/40\n",
            "35/35 [==============================] - 21s 602ms/step - loss: 0.2479 - accuracy: 0.8921 - val_loss: 0.2783 - val_accuracy: 0.8818\n",
            "Epoch 17/40\n",
            "35/35 [==============================] - 21s 602ms/step - loss: 0.2450 - accuracy: 0.8910 - val_loss: 0.2437 - val_accuracy: 0.8966\n",
            "Epoch 18/40\n",
            "35/35 [==============================] - 21s 603ms/step - loss: 0.2406 - accuracy: 0.8951 - val_loss: 0.2535 - val_accuracy: 0.8920\n",
            "Epoch 19/40\n",
            "35/35 [==============================] - 21s 601ms/step - loss: 0.2409 - accuracy: 0.8933 - val_loss: 0.2446 - val_accuracy: 0.8959\n",
            "Epoch 20/40\n",
            "35/35 [==============================] - 21s 601ms/step - loss: 0.2371 - accuracy: 0.8956 - val_loss: 0.2352 - val_accuracy: 0.9007\n",
            "Epoch 21/40\n",
            "35/35 [==============================] - 21s 604ms/step - loss: 0.2354 - accuracy: 0.8957 - val_loss: 0.2512 - val_accuracy: 0.8926\n",
            "Epoch 22/40\n",
            "35/35 [==============================] - 21s 601ms/step - loss: 0.2356 - accuracy: 0.8932 - val_loss: 0.2582 - val_accuracy: 0.8892\n",
            "Epoch 23/40\n",
            "35/35 [==============================] - 21s 601ms/step - loss: 0.2281 - accuracy: 0.8970 - val_loss: 0.2353 - val_accuracy: 0.9005\n",
            "Epoch 24/40\n",
            "35/35 [==============================] - 21s 604ms/step - loss: 0.2249 - accuracy: 0.8983 - val_loss: 0.2332 - val_accuracy: 0.9003\n",
            "Epoch 25/40\n",
            "35/35 [==============================] - 21s 602ms/step - loss: 0.2235 - accuracy: 0.8997 - val_loss: 0.2375 - val_accuracy: 0.8967\n",
            "Epoch 26/40\n",
            "35/35 [==============================] - 21s 608ms/step - loss: 0.2273 - accuracy: 0.8976 - val_loss: 0.2116 - val_accuracy: 0.9111\n",
            "Epoch 27/40\n",
            "35/35 [==============================] - 21s 603ms/step - loss: 0.2209 - accuracy: 0.9001 - val_loss: 0.2041 - val_accuracy: 0.9149\n",
            "Epoch 28/40\n",
            "35/35 [==============================] - 21s 603ms/step - loss: 0.2200 - accuracy: 0.9015 - val_loss: 0.2284 - val_accuracy: 0.9014\n",
            "Epoch 29/40\n",
            "35/35 [==============================] - 21s 602ms/step - loss: 0.2196 - accuracy: 0.8990 - val_loss: 0.2314 - val_accuracy: 0.8999\n",
            "Epoch 30/40\n",
            "35/35 [==============================] - 21s 603ms/step - loss: 0.2149 - accuracy: 0.9024 - val_loss: 0.2209 - val_accuracy: 0.9064\n",
            "Epoch 31/40\n",
            "35/35 [==============================] - 21s 603ms/step - loss: 0.2123 - accuracy: 0.9023 - val_loss: 0.2358 - val_accuracy: 0.8978\n",
            "Epoch 32/40\n",
            "35/35 [==============================] - 21s 601ms/step - loss: 0.2115 - accuracy: 0.9018 - val_loss: 0.2073 - val_accuracy: 0.9117\n",
            "Epoch 33/40\n",
            "35/35 [==============================] - 21s 604ms/step - loss: 0.2101 - accuracy: 0.9026 - val_loss: 0.2806 - val_accuracy: 0.8795\n",
            "Epoch 34/40\n",
            "35/35 [==============================] - 21s 609ms/step - loss: 0.2131 - accuracy: 0.8989 - val_loss: 0.2174 - val_accuracy: 0.9068\n",
            "Epoch 35/40\n",
            "35/35 [==============================] - 21s 605ms/step - loss: 0.2041 - accuracy: 0.9039 - val_loss: 0.2164 - val_accuracy: 0.9066\n",
            "Epoch 36/40\n",
            "35/35 [==============================] - 21s 605ms/step - loss: 0.2068 - accuracy: 0.9040 - val_loss: 0.2086 - val_accuracy: 0.9109\n",
            "Epoch 37/40\n",
            "35/35 [==============================] - 21s 607ms/step - loss: 0.2028 - accuracy: 0.9047 - val_loss: 0.1925 - val_accuracy: 0.9180\n",
            "Epoch 38/40\n",
            "35/35 [==============================] - 21s 605ms/step - loss: 0.2012 - accuracy: 0.9053 - val_loss: 0.2326 - val_accuracy: 0.9001\n",
            "Epoch 39/40\n",
            "35/35 [==============================] - 21s 607ms/step - loss: 0.2012 - accuracy: 0.9042 - val_loss: 0.2448 - val_accuracy: 0.8927\n",
            "Epoch 40/40\n",
            "35/35 [==============================] - 21s 605ms/step - loss: 0.1983 - accuracy: 0.9039 - val_loss: 0.2065 - val_accuracy: 0.9128\n"
          ],
          "name": "stdout"
        },
        {
          "output_type": "execute_result",
          "data": {
            "text/plain": [
              "<tensorflow.python.keras.callbacks.History at 0x7ff7b0329f90>"
            ]
          },
          "metadata": {
            "tags": []
          },
          "execution_count": 28
        }
      ]
    },
    {
      "cell_type": "code",
      "metadata": {
        "id": "Ez2vAx9XEuoQ"
      },
      "source": [
        "p=model.predict(seq_test_matrix)"
      ],
      "execution_count": null,
      "outputs": []
    },
    {
      "cell_type": "code",
      "metadata": {
        "id": "TKb5UmAeEum9"
      },
      "source": [
        "from sklearn.metrics import roc_auc_score\n",
        "roc_auc_score(y_test,p)"
      ],
      "execution_count": null,
      "outputs": []
    },
    {
      "cell_type": "code",
      "metadata": {
        "id": "q-seyhcnEujh"
      },
      "source": [
        ""
      ],
      "execution_count": null,
      "outputs": []
    },
    {
      "cell_type": "code",
      "metadata": {
        "id": "lEgEh3rdEuhb"
      },
      "source": [
        ""
      ],
      "execution_count": null,
      "outputs": []
    },
    {
      "cell_type": "code",
      "metadata": {
        "id": "kdx8yrLYEuWt"
      },
      "source": [
        ""
      ],
      "execution_count": null,
      "outputs": []
    }
  ]
}