{
  "nbformat": 4,
  "nbformat_minor": 0,
  "metadata": {
    "accelerator": "TPU",
    "colab": {
      "name": "Prapoojitha_Dasari_DL_Project1.ipynb",
      "provenance": [],
      "collapsed_sections": []
    },
    "kernelspec": {
      "display_name": "Python 3",
      "name": "python3"
    }
  },
  "cells": [
    {
      "cell_type": "code",
      "metadata": {
        "colab": {
          "base_uri": "https://localhost:8080/"
        },
        "id": "RtrYoph5UCBT",
        "outputId": "8facd4bf-56d7-40b0-9a9f-373ded824954"
      },
      "source": [
        "!wget  https://www.dropbox.com/s/5721wcs2guuykzl/stacksample.zip?dl=0"
      ],
      "execution_count": 1,
      "outputs": [
        {
          "output_type": "stream",
          "text": [
            "--2020-12-31 02:50:15--  https://www.dropbox.com/s/5721wcs2guuykzl/stacksample.zip?dl=0\n",
            "Resolving www.dropbox.com (www.dropbox.com)... 162.125.3.18, 2620:100:6018:18::a27d:312\n",
            "Connecting to www.dropbox.com (www.dropbox.com)|162.125.3.18|:443... connected.\n",
            "HTTP request sent, awaiting response... 301 Moved Permanently\n",
            "Location: /s/raw/5721wcs2guuykzl/stacksample.zip [following]\n",
            "--2020-12-31 02:50:15--  https://www.dropbox.com/s/raw/5721wcs2guuykzl/stacksample.zip\n",
            "Reusing existing connection to www.dropbox.com:443.\n",
            "HTTP request sent, awaiting response... 302 Found\n",
            "Location: https://ucab0ec4e0a55ca586b5d00ad233.dl.dropboxusercontent.com/cd/0/inline/BGGpHYB9x-p90HvtupEKhbzJLTOUHcFWGbBgAk_I4qttiXmD-UGAY1QU6rsGo1hC79cFBHJRHprgiv8K35HCBfqxInACpY9IGtRTzNLvi3uB7g/file# [following]\n",
            "--2020-12-31 02:50:16--  https://ucab0ec4e0a55ca586b5d00ad233.dl.dropboxusercontent.com/cd/0/inline/BGGpHYB9x-p90HvtupEKhbzJLTOUHcFWGbBgAk_I4qttiXmD-UGAY1QU6rsGo1hC79cFBHJRHprgiv8K35HCBfqxInACpY9IGtRTzNLvi3uB7g/file\n",
            "Resolving ucab0ec4e0a55ca586b5d00ad233.dl.dropboxusercontent.com (ucab0ec4e0a55ca586b5d00ad233.dl.dropboxusercontent.com)... 162.125.3.15, 2620:100:6018:15::a27d:30f\n",
            "Connecting to ucab0ec4e0a55ca586b5d00ad233.dl.dropboxusercontent.com (ucab0ec4e0a55ca586b5d00ad233.dl.dropboxusercontent.com)|162.125.3.15|:443... connected.\n",
            "HTTP request sent, awaiting response... 302 Found\n",
            "Location: /cd/0/inline2/BGELwrZcn9-zD-Q3he6ls5tNT2DvCahLdwP9IlRqc00K0x_7Uwlfp1u2k7QqIlBq2N4dNGmF7aJztovTobbF7RLrrRIrSZ9-4aKCyY4MDdf5BQtf-p6y2XeCnQmlp3pgOklaSrfLt3c1bTII4kWDIXtkcQUZkUywcePC0t4ts-ZkYPixttNeouVtojZo6slCr9dfU8u_b8009GCQ0A3w17_AgM31ipJLGJJCYVluCn_psJBSzLU1CsRKmgUHFH2IDANZ8yN8erldG6H-fejdoUtmptXbQ2iEe2Yoi-hKchgKN3P28iFqq0Alz1Q2J_NuW8XsbLHkhJLVsBhz9P6csgoh/file [following]\n",
            "--2020-12-31 02:50:16--  https://ucab0ec4e0a55ca586b5d00ad233.dl.dropboxusercontent.com/cd/0/inline2/BGELwrZcn9-zD-Q3he6ls5tNT2DvCahLdwP9IlRqc00K0x_7Uwlfp1u2k7QqIlBq2N4dNGmF7aJztovTobbF7RLrrRIrSZ9-4aKCyY4MDdf5BQtf-p6y2XeCnQmlp3pgOklaSrfLt3c1bTII4kWDIXtkcQUZkUywcePC0t4ts-ZkYPixttNeouVtojZo6slCr9dfU8u_b8009GCQ0A3w17_AgM31ipJLGJJCYVluCn_psJBSzLU1CsRKmgUHFH2IDANZ8yN8erldG6H-fejdoUtmptXbQ2iEe2Yoi-hKchgKN3P28iFqq0Alz1Q2J_NuW8XsbLHkhJLVsBhz9P6csgoh/file\n",
            "Reusing existing connection to ucab0ec4e0a55ca586b5d00ad233.dl.dropboxusercontent.com:443.\n",
            "HTTP request sent, awaiting response... 200 OK\n",
            "Length: 1231288519 (1.1G) [application/zip]\n",
            "Saving to: ‘stacksample.zip?dl=0’\n",
            "\n",
            "stacksample.zip?dl= 100%[===================>]   1.15G  87.1MB/s    in 17s     \n",
            "\n",
            "2020-12-31 02:50:34 (70.7 MB/s) - ‘stacksample.zip?dl=0’ saved [1231288519/1231288519]\n",
            "\n"
          ],
          "name": "stdout"
        }
      ]
    },
    {
      "cell_type": "code",
      "metadata": {
        "colab": {
          "base_uri": "https://localhost:8080/"
        },
        "id": "vtpeIgxnUITs",
        "outputId": "55fb0667-5da7-40d6-ba0f-ec3bd287e06f"
      },
      "source": [
        "!unzip stacksample.zip?dl=0"
      ],
      "execution_count": 2,
      "outputs": [
        {
          "output_type": "stream",
          "text": [
            "Archive:  stacksample.zip?dl=0\n",
            "  inflating: Answers.csv             \n",
            "  inflating: Questions.csv           \n",
            "  inflating: Tags.csv                \n"
          ],
          "name": "stdout"
        }
      ]
    },
    {
      "cell_type": "code",
      "metadata": {
        "id": "71GCFI-rUkVx"
      },
      "source": [
        "import numpy as np\r\n",
        "import pandas as pd\r\n",
        "import matplotlib.pyplot as plt\r\n",
        "%matplotlib inline\r\n",
        "\r\n",
        "import warnings\r\n",
        "warnings.filterwarnings(\"ignore\")"
      ],
      "execution_count": 3,
      "outputs": []
    },
    {
      "cell_type": "code",
      "metadata": {
        "id": "CbJLtPzPVEIQ"
      },
      "source": [
        "ques = pd.read_csv(r'/content/Questions.csv',encoding='latin-1')\r\n",
        "ans= pd.read_csv(r'/content/Answers.csv',encoding='latin-1')\r\n",
        "tags = pd.read_csv(r'/content/Tags.csv',encoding='latin-1')"
      ],
      "execution_count": 4,
      "outputs": []
    },
    {
      "cell_type": "code",
      "metadata": {
        "colab": {
          "base_uri": "https://localhost:8080/",
          "height": 204
        },
        "id": "AxAqwgN7VOaQ",
        "outputId": "f10547e2-096c-41ab-a2c4-c292a35da14a"
      },
      "source": [
        "ques.head()"
      ],
      "execution_count": 5,
      "outputs": [
        {
          "output_type": "execute_result",
          "data": {
            "text/html": [
              "<div>\n",
              "<style scoped>\n",
              "    .dataframe tbody tr th:only-of-type {\n",
              "        vertical-align: middle;\n",
              "    }\n",
              "\n",
              "    .dataframe tbody tr th {\n",
              "        vertical-align: top;\n",
              "    }\n",
              "\n",
              "    .dataframe thead th {\n",
              "        text-align: right;\n",
              "    }\n",
              "</style>\n",
              "<table border=\"1\" class=\"dataframe\">\n",
              "  <thead>\n",
              "    <tr style=\"text-align: right;\">\n",
              "      <th></th>\n",
              "      <th>Id</th>\n",
              "      <th>OwnerUserId</th>\n",
              "      <th>CreationDate</th>\n",
              "      <th>ClosedDate</th>\n",
              "      <th>Score</th>\n",
              "      <th>Title</th>\n",
              "      <th>Body</th>\n",
              "    </tr>\n",
              "  </thead>\n",
              "  <tbody>\n",
              "    <tr>\n",
              "      <th>0</th>\n",
              "      <td>80</td>\n",
              "      <td>26.0</td>\n",
              "      <td>2008-08-01T13:57:07Z</td>\n",
              "      <td>NaN</td>\n",
              "      <td>26</td>\n",
              "      <td>SQLStatement.execute() - multiple queries in o...</td>\n",
              "      <td>&lt;p&gt;I've written a database generation script i...</td>\n",
              "    </tr>\n",
              "    <tr>\n",
              "      <th>1</th>\n",
              "      <td>90</td>\n",
              "      <td>58.0</td>\n",
              "      <td>2008-08-01T14:41:24Z</td>\n",
              "      <td>2012-12-26T03:45:49Z</td>\n",
              "      <td>144</td>\n",
              "      <td>Good branching and merging tutorials for Torto...</td>\n",
              "      <td>&lt;p&gt;Are there any really good tutorials explain...</td>\n",
              "    </tr>\n",
              "    <tr>\n",
              "      <th>2</th>\n",
              "      <td>120</td>\n",
              "      <td>83.0</td>\n",
              "      <td>2008-08-01T15:50:08Z</td>\n",
              "      <td>NaN</td>\n",
              "      <td>21</td>\n",
              "      <td>ASP.NET Site Maps</td>\n",
              "      <td>&lt;p&gt;Has anyone got experience creating &lt;strong&gt;...</td>\n",
              "    </tr>\n",
              "    <tr>\n",
              "      <th>3</th>\n",
              "      <td>180</td>\n",
              "      <td>2089740.0</td>\n",
              "      <td>2008-08-01T18:42:19Z</td>\n",
              "      <td>NaN</td>\n",
              "      <td>53</td>\n",
              "      <td>Function for creating color wheels</td>\n",
              "      <td>&lt;p&gt;This is something I've pseudo-solved many t...</td>\n",
              "    </tr>\n",
              "    <tr>\n",
              "      <th>4</th>\n",
              "      <td>260</td>\n",
              "      <td>91.0</td>\n",
              "      <td>2008-08-01T23:22:08Z</td>\n",
              "      <td>NaN</td>\n",
              "      <td>49</td>\n",
              "      <td>Adding scripting functionality to .NET applica...</td>\n",
              "      <td>&lt;p&gt;I have a little game written in C#. It uses...</td>\n",
              "    </tr>\n",
              "  </tbody>\n",
              "</table>\n",
              "</div>"
            ],
            "text/plain": [
              "    Id  ...                                               Body\n",
              "0   80  ...  <p>I've written a database generation script i...\n",
              "1   90  ...  <p>Are there any really good tutorials explain...\n",
              "2  120  ...  <p>Has anyone got experience creating <strong>...\n",
              "3  180  ...  <p>This is something I've pseudo-solved many t...\n",
              "4  260  ...  <p>I have a little game written in C#. It uses...\n",
              "\n",
              "[5 rows x 7 columns]"
            ]
          },
          "metadata": {
            "tags": []
          },
          "execution_count": 5
        }
      ]
    },
    {
      "cell_type": "code",
      "metadata": {
        "colab": {
          "base_uri": "https://localhost:8080/",
          "height": 52
        },
        "id": "nDsIIjOGfDFo",
        "outputId": "6bcd407f-4d16-4642-db58-890f1f972bd4"
      },
      "source": [
        "ques['Body'][120]"
      ],
      "execution_count": 6,
      "outputs": [
        {
          "output_type": "execute_result",
          "data": {
            "application/vnd.google.colaboratory.intrinsic+json": {
              "type": "string"
            },
            "text/plain": [
              "\"<p>I want to rename a database, but keep getting the error that 'couldn't get exclusive lock' on the database, which implies there is some connection(s) still active.</p>\\n\\n<p>How can I kill all the connections to the database so that I can rename it?</p>\\n\""
            ]
          },
          "metadata": {
            "tags": []
          },
          "execution_count": 6
        }
      ]
    },
    {
      "cell_type": "code",
      "metadata": {
        "colab": {
          "base_uri": "https://localhost:8080/",
          "height": 204
        },
        "id": "tpCNc_ueX9wT",
        "outputId": "b285e2e7-e9d3-4fdb-8f95-9a997c3a509e"
      },
      "source": [
        "ans.head()"
      ],
      "execution_count": 7,
      "outputs": [
        {
          "output_type": "execute_result",
          "data": {
            "text/html": [
              "<div>\n",
              "<style scoped>\n",
              "    .dataframe tbody tr th:only-of-type {\n",
              "        vertical-align: middle;\n",
              "    }\n",
              "\n",
              "    .dataframe tbody tr th {\n",
              "        vertical-align: top;\n",
              "    }\n",
              "\n",
              "    .dataframe thead th {\n",
              "        text-align: right;\n",
              "    }\n",
              "</style>\n",
              "<table border=\"1\" class=\"dataframe\">\n",
              "  <thead>\n",
              "    <tr style=\"text-align: right;\">\n",
              "      <th></th>\n",
              "      <th>Id</th>\n",
              "      <th>OwnerUserId</th>\n",
              "      <th>CreationDate</th>\n",
              "      <th>ParentId</th>\n",
              "      <th>Score</th>\n",
              "      <th>Body</th>\n",
              "    </tr>\n",
              "  </thead>\n",
              "  <tbody>\n",
              "    <tr>\n",
              "      <th>0</th>\n",
              "      <td>92</td>\n",
              "      <td>61.0</td>\n",
              "      <td>2008-08-01T14:45:37Z</td>\n",
              "      <td>90</td>\n",
              "      <td>13</td>\n",
              "      <td>&lt;p&gt;&lt;a href=\"http://svnbook.red-bean.com/\"&gt;Vers...</td>\n",
              "    </tr>\n",
              "    <tr>\n",
              "      <th>1</th>\n",
              "      <td>124</td>\n",
              "      <td>26.0</td>\n",
              "      <td>2008-08-01T16:09:47Z</td>\n",
              "      <td>80</td>\n",
              "      <td>12</td>\n",
              "      <td>&lt;p&gt;I wound up using this. It is a kind of a ha...</td>\n",
              "    </tr>\n",
              "    <tr>\n",
              "      <th>2</th>\n",
              "      <td>199</td>\n",
              "      <td>50.0</td>\n",
              "      <td>2008-08-01T19:36:46Z</td>\n",
              "      <td>180</td>\n",
              "      <td>1</td>\n",
              "      <td>&lt;p&gt;I've read somewhere the human eye can't dis...</td>\n",
              "    </tr>\n",
              "    <tr>\n",
              "      <th>3</th>\n",
              "      <td>269</td>\n",
              "      <td>91.0</td>\n",
              "      <td>2008-08-01T23:49:57Z</td>\n",
              "      <td>260</td>\n",
              "      <td>4</td>\n",
              "      <td>&lt;p&gt;Yes, I thought about that, but I soon figur...</td>\n",
              "    </tr>\n",
              "    <tr>\n",
              "      <th>4</th>\n",
              "      <td>307</td>\n",
              "      <td>49.0</td>\n",
              "      <td>2008-08-02T01:49:46Z</td>\n",
              "      <td>260</td>\n",
              "      <td>28</td>\n",
              "      <td>&lt;p&gt;&lt;a href=\"http://www.codeproject.com/Article...</td>\n",
              "    </tr>\n",
              "  </tbody>\n",
              "</table>\n",
              "</div>"
            ],
            "text/plain": [
              "    Id  OwnerUserId  ... Score                                               Body\n",
              "0   92         61.0  ...    13  <p><a href=\"http://svnbook.red-bean.com/\">Vers...\n",
              "1  124         26.0  ...    12  <p>I wound up using this. It is a kind of a ha...\n",
              "2  199         50.0  ...     1  <p>I've read somewhere the human eye can't dis...\n",
              "3  269         91.0  ...     4  <p>Yes, I thought about that, but I soon figur...\n",
              "4  307         49.0  ...    28  <p><a href=\"http://www.codeproject.com/Article...\n",
              "\n",
              "[5 rows x 6 columns]"
            ]
          },
          "metadata": {
            "tags": []
          },
          "execution_count": 7
        }
      ]
    },
    {
      "cell_type": "code",
      "metadata": {
        "colab": {
          "base_uri": "https://localhost:8080/",
          "height": 419
        },
        "id": "HiJqEHLHhYPB",
        "outputId": "6143f3fc-ec65-4941-8504-2d761446870d"
      },
      "source": [
        "ques[ques['Score']== 5]"
      ],
      "execution_count": 8,
      "outputs": [
        {
          "output_type": "execute_result",
          "data": {
            "text/html": [
              "<div>\n",
              "<style scoped>\n",
              "    .dataframe tbody tr th:only-of-type {\n",
              "        vertical-align: middle;\n",
              "    }\n",
              "\n",
              "    .dataframe tbody tr th {\n",
              "        vertical-align: top;\n",
              "    }\n",
              "\n",
              "    .dataframe thead th {\n",
              "        text-align: right;\n",
              "    }\n",
              "</style>\n",
              "<table border=\"1\" class=\"dataframe\">\n",
              "  <thead>\n",
              "    <tr style=\"text-align: right;\">\n",
              "      <th></th>\n",
              "      <th>Id</th>\n",
              "      <th>OwnerUserId</th>\n",
              "      <th>CreationDate</th>\n",
              "      <th>ClosedDate</th>\n",
              "      <th>Score</th>\n",
              "      <th>Title</th>\n",
              "      <th>Body</th>\n",
              "    </tr>\n",
              "  </thead>\n",
              "  <tbody>\n",
              "    <tr>\n",
              "      <th>73</th>\n",
              "      <td>6890</td>\n",
              "      <td>636.0</td>\n",
              "      <td>2008-08-09T20:00:37Z</td>\n",
              "      <td>NaN</td>\n",
              "      <td>5</td>\n",
              "      <td>How to wait for thread complete before continu...</td>\n",
              "      <td>&lt;p&gt;I have some code for starting a thread on t...</td>\n",
              "    </tr>\n",
              "    <tr>\n",
              "      <th>97</th>\n",
              "      <td>9750</td>\n",
              "      <td>123.0</td>\n",
              "      <td>2008-08-13T13:00:48Z</td>\n",
              "      <td>NaN</td>\n",
              "      <td>5</td>\n",
              "      <td>How can I reverse the ON bits in a byte?</td>\n",
              "      <td>&lt;p&gt;I was reading Joel's book where he was sugg...</td>\n",
              "    </tr>\n",
              "    <tr>\n",
              "      <th>109</th>\n",
              "      <td>10870</td>\n",
              "      <td>1109.0</td>\n",
              "      <td>2008-08-14T10:32:52Z</td>\n",
              "      <td>NaN</td>\n",
              "      <td>5</td>\n",
              "      <td>How can I \"unaccept\" a drag in Flex?</td>\n",
              "      <td>&lt;p&gt;Once I've called &lt;code&gt;DragManager.acceptDr...</td>\n",
              "    </tr>\n",
              "    <tr>\n",
              "      <th>116</th>\n",
              "      <td>11430</td>\n",
              "      <td>1194.0</td>\n",
              "      <td>2008-08-14T18:08:00Z</td>\n",
              "      <td>NaN</td>\n",
              "      <td>5</td>\n",
              "      <td>What version of .Net framework ships with SQL ...</td>\n",
              "      <td>&lt;p&gt;Does SQL Server 2008 ship with the .NET 3.5...</td>\n",
              "    </tr>\n",
              "    <tr>\n",
              "      <th>171</th>\n",
              "      <td>16330</td>\n",
              "      <td>1946.0</td>\n",
              "      <td>2008-08-19T14:53:06Z</td>\n",
              "      <td>NaN</td>\n",
              "      <td>5</td>\n",
              "      <td>How do I handle page flow in MVC (particularly...</td>\n",
              "      <td>&lt;p&gt;If you had to provide a wizard like form en...</td>\n",
              "    </tr>\n",
              "    <tr>\n",
              "      <th>...</th>\n",
              "      <td>...</td>\n",
              "      <td>...</td>\n",
              "      <td>...</td>\n",
              "      <td>...</td>\n",
              "      <td>...</td>\n",
              "      <td>...</td>\n",
              "      <td>...</td>\n",
              "    </tr>\n",
              "    <tr>\n",
              "      <th>1261159</th>\n",
              "      <td>40071760</td>\n",
              "      <td>2286759.0</td>\n",
              "      <td>2016-10-16T15:04:07Z</td>\n",
              "      <td>NaN</td>\n",
              "      <td>5</td>\n",
              "      <td>WPF DataContext works differently in seemingly...</td>\n",
              "      <td>&lt;p&gt;I have the following resources:&lt;/p&gt;\\n\\n&lt;pre...</td>\n",
              "    </tr>\n",
              "    <tr>\n",
              "      <th>1262160</th>\n",
              "      <td>40094470</td>\n",
              "      <td>1048539.0</td>\n",
              "      <td>2016-10-17T19:47:19Z</td>\n",
              "      <td>NaN</td>\n",
              "      <td>5</td>\n",
              "      <td>Why does adding parenthesis around a yield cal...</td>\n",
              "      <td>&lt;p&gt;I have a method:&lt;/p&gt;\\n\\n&lt;pre&gt;&lt;code&gt;@gen.cor...</td>\n",
              "    </tr>\n",
              "    <tr>\n",
              "      <th>1262745</th>\n",
              "      <td>40108070</td>\n",
              "      <td>4151472.0</td>\n",
              "      <td>2016-10-18T12:18:41Z</td>\n",
              "      <td>NaN</td>\n",
              "      <td>5</td>\n",
              "      <td>How to get read/write disk speed in Python?</td>\n",
              "      <td>&lt;p&gt;In a Pyhton program I need to get the accum...</td>\n",
              "    </tr>\n",
              "    <tr>\n",
              "      <th>1263253</th>\n",
              "      <td>40120130</td>\n",
              "      <td>3906760.0</td>\n",
              "      <td>2016-10-19T00:26:09Z</td>\n",
              "      <td>NaN</td>\n",
              "      <td>5</td>\n",
              "      <td>CMFCMenuButton not properly repainting when to...</td>\n",
              "      <td>&lt;p&gt;In an C++ MFC project I'm using &lt;a href=\"ht...</td>\n",
              "    </tr>\n",
              "    <tr>\n",
              "      <th>1263609</th>\n",
              "      <td>40129230</td>\n",
              "      <td>15139.0</td>\n",
              "      <td>2016-10-19T10:48:05Z</td>\n",
              "      <td>NaN</td>\n",
              "      <td>5</td>\n",
              "      <td>Do I need to extend FirebaseInstanceIdService ...</td>\n",
              "      <td>&lt;p&gt;I want to manage topic subscription from th...</td>\n",
              "    </tr>\n",
              "  </tbody>\n",
              "</table>\n",
              "<p>20203 rows × 7 columns</p>\n",
              "</div>"
            ],
            "text/plain": [
              "               Id  ...                                               Body\n",
              "73           6890  ...  <p>I have some code for starting a thread on t...\n",
              "97           9750  ...  <p>I was reading Joel's book where he was sugg...\n",
              "109         10870  ...  <p>Once I've called <code>DragManager.acceptDr...\n",
              "116         11430  ...  <p>Does SQL Server 2008 ship with the .NET 3.5...\n",
              "171         16330  ...  <p>If you had to provide a wizard like form en...\n",
              "...           ...  ...                                                ...\n",
              "1261159  40071760  ...  <p>I have the following resources:</p>\\n\\n<pre...\n",
              "1262160  40094470  ...  <p>I have a method:</p>\\n\\n<pre><code>@gen.cor...\n",
              "1262745  40108070  ...  <p>In a Pyhton program I need to get the accum...\n",
              "1263253  40120130  ...  <p>In an C++ MFC project I'm using <a href=\"ht...\n",
              "1263609  40129230  ...  <p>I want to manage topic subscription from th...\n",
              "\n",
              "[20203 rows x 7 columns]"
            ]
          },
          "metadata": {
            "tags": []
          },
          "execution_count": 8
        }
      ]
    },
    {
      "cell_type": "code",
      "metadata": {
        "colab": {
          "base_uri": "https://localhost:8080/",
          "height": 80
        },
        "id": "cJYXRXeig4KA",
        "outputId": "fcb9f3bc-9087-45c7-c6b3-7b6ad6d02cb4"
      },
      "source": [
        "ans[ans['Id']== 269]"
      ],
      "execution_count": 9,
      "outputs": [
        {
          "output_type": "execute_result",
          "data": {
            "text/html": [
              "<div>\n",
              "<style scoped>\n",
              "    .dataframe tbody tr th:only-of-type {\n",
              "        vertical-align: middle;\n",
              "    }\n",
              "\n",
              "    .dataframe tbody tr th {\n",
              "        vertical-align: top;\n",
              "    }\n",
              "\n",
              "    .dataframe thead th {\n",
              "        text-align: right;\n",
              "    }\n",
              "</style>\n",
              "<table border=\"1\" class=\"dataframe\">\n",
              "  <thead>\n",
              "    <tr style=\"text-align: right;\">\n",
              "      <th></th>\n",
              "      <th>Id</th>\n",
              "      <th>OwnerUserId</th>\n",
              "      <th>CreationDate</th>\n",
              "      <th>ParentId</th>\n",
              "      <th>Score</th>\n",
              "      <th>Body</th>\n",
              "    </tr>\n",
              "  </thead>\n",
              "  <tbody>\n",
              "    <tr>\n",
              "      <th>3</th>\n",
              "      <td>269</td>\n",
              "      <td>91.0</td>\n",
              "      <td>2008-08-01T23:49:57Z</td>\n",
              "      <td>260</td>\n",
              "      <td>4</td>\n",
              "      <td>&lt;p&gt;Yes, I thought about that, but I soon figur...</td>\n",
              "    </tr>\n",
              "  </tbody>\n",
              "</table>\n",
              "</div>"
            ],
            "text/plain": [
              "    Id  OwnerUserId  ... Score                                               Body\n",
              "3  269         91.0  ...     4  <p>Yes, I thought about that, but I soon figur...\n",
              "\n",
              "[1 rows x 6 columns]"
            ]
          },
          "metadata": {
            "tags": []
          },
          "execution_count": 9
        }
      ]
    },
    {
      "cell_type": "code",
      "metadata": {
        "colab": {
          "base_uri": "https://localhost:8080/"
        },
        "id": "C3NZcCEpYvhD",
        "outputId": "b85b8b1a-1dca-435e-b3e7-a993cf2e7379"
      },
      "source": [
        "tags['Tag'].value_counts()[0:20]"
      ],
      "execution_count": 10,
      "outputs": [
        {
          "output_type": "execute_result",
          "data": {
            "text/plain": [
              "javascript       124155\n",
              "java             115212\n",
              "c#               101186\n",
              "php               98808\n",
              "android           90659\n",
              "jquery            78542\n",
              "python            64601\n",
              "html              58976\n",
              "c++               47591\n",
              "ios               47009\n",
              "mysql             42464\n",
              "css               42308\n",
              "sql               35782\n",
              "asp.net           29970\n",
              "objective-c       26922\n",
              "ruby-on-rails     25789\n",
              ".net              24059\n",
              "c                 23238\n",
              "iphone            21539\n",
              "angularjs         20345\n",
              "Name: Tag, dtype: int64"
            ]
          },
          "metadata": {
            "tags": []
          },
          "execution_count": 10
        }
      ]
    },
    {
      "cell_type": "code",
      "metadata": {
        "colab": {
          "base_uri": "https://localhost:8080/"
        },
        "id": "XhBIMZc6Yxcr",
        "outputId": "1d6963c8-098a-42d9-ea88-b1dad591a24a"
      },
      "source": [
        "ques.shape,ans.shape,tags.shape"
      ],
      "execution_count": 11,
      "outputs": [
        {
          "output_type": "execute_result",
          "data": {
            "text/plain": [
              "((1264216, 7), (2014516, 6), (3750994, 2))"
            ]
          },
          "metadata": {
            "tags": []
          },
          "execution_count": 11
        }
      ]
    },
    {
      "cell_type": "code",
      "metadata": {
        "colab": {
          "base_uri": "https://localhost:8080/"
        },
        "id": "U-r6VMfedM-E",
        "outputId": "ccf121d6-404b-41c4-eb75-349c2ca513f3"
      },
      "source": [
        "ques['Score'].value_counts()[0:100]"
      ],
      "execution_count": 12,
      "outputs": [
        {
          "output_type": "execute_result",
          "data": {
            "text/plain": [
              " 0     591710\n",
              " 1     281042\n",
              " 2     125000\n",
              " 3      61182\n",
              "-1      43779\n",
              "        ...  \n",
              " 82        39\n",
              " 85        38\n",
              " 83        37\n",
              " 93        32\n",
              " 88        31\n",
              "Name: Score, Length: 100, dtype: int64"
            ]
          },
          "metadata": {
            "tags": []
          },
          "execution_count": 12
        }
      ]
    },
    {
      "cell_type": "code",
      "metadata": {
        "colab": {
          "base_uri": "https://localhost:8080/"
        },
        "id": "TJRLki73gMqu",
        "outputId": "abc16e7e-7e11-4406-9e56-d141fe8d3083"
      },
      "source": [
        "tags['Tag'].value_counts()[:10].index"
      ],
      "execution_count": 13,
      "outputs": [
        {
          "output_type": "execute_result",
          "data": {
            "text/plain": [
              "Index(['javascript', 'java', 'c#', 'php', 'android', 'jquery', 'python',\n",
              "       'html', 'c++', 'ios'],\n",
              "      dtype='object')"
            ]
          },
          "metadata": {
            "tags": []
          },
          "execution_count": 13
        }
      ]
    },
    {
      "cell_type": "code",
      "metadata": {
        "colab": {
          "base_uri": "https://localhost:8080/"
        },
        "id": "pUY4IPFsgM91",
        "outputId": "6b187668-6302-43e8-8694-0e2bf1d7b333"
      },
      "source": [
        "top10_tags = list(tags['Tag'].value_counts()[:10].index)\r\n",
        "print(top10_tags)"
      ],
      "execution_count": 14,
      "outputs": [
        {
          "output_type": "stream",
          "text": [
            "['javascript', 'java', 'c#', 'php', 'android', 'jquery', 'python', 'html', 'c++', 'ios']\n"
          ],
          "name": "stdout"
        }
      ]
    },
    {
      "cell_type": "code",
      "metadata": {
        "colab": {
          "base_uri": "https://localhost:8080/"
        },
        "id": "CD6kxvDif_HF",
        "outputId": "e7eaecd0-91bc-4fd5-8f68-02ccce86bc57"
      },
      "source": [
        "top10_tags = list(tags['Tag'].value_counts()[:10].index)\r\n",
        "print(top10_tags)\r\n",
        "\r\n",
        "new_tags = tags[tags['Tag'].isin(top10_tags)]\r\n",
        "new_tags.reset_index(drop=True, inplace=True)\r\n"
      ],
      "execution_count": 15,
      "outputs": [
        {
          "output_type": "stream",
          "text": [
            "['javascript', 'java', 'c#', 'php', 'android', 'jquery', 'python', 'html', 'c++', 'ios']\n"
          ],
          "name": "stdout"
        }
      ]
    },
    {
      "cell_type": "code",
      "metadata": {
        "id": "VvdJnWez1HpW"
      },
      "source": [
        "q1 = ques"
      ],
      "execution_count": 16,
      "outputs": []
    },
    {
      "cell_type": "code",
      "metadata": {
        "id": "EBxt5UnaN4mO"
      },
      "source": [
        "ques.drop(columns=['OwnerUserId', 'CreationDate', 'ClosedDate', 'Score'], inplace=True)"
      ],
      "execution_count": 17,
      "outputs": []
    },
    {
      "cell_type": "code",
      "metadata": {
        "colab": {
          "base_uri": "https://localhost:8080/"
        },
        "id": "NdgYy17LhGdy",
        "outputId": "82aafc46-da1f-41e0-a36b-c74647ca4299"
      },
      "source": [
        "ques.isnull().sum()"
      ],
      "execution_count": 18,
      "outputs": [
        {
          "output_type": "execute_result",
          "data": {
            "text/plain": [
              "Id       0\n",
              "Title    0\n",
              "Body     0\n",
              "dtype: int64"
            ]
          },
          "metadata": {
            "tags": []
          },
          "execution_count": 18
        }
      ]
    },
    {
      "cell_type": "code",
      "metadata": {
        "colab": {
          "base_uri": "https://localhost:8080/"
        },
        "id": "3NFiRvZNhL1h",
        "outputId": "073832c2-327c-42f4-da4a-4342156324ee"
      },
      "source": [
        "new_tags.isnull().sum()"
      ],
      "execution_count": 19,
      "outputs": [
        {
          "output_type": "execute_result",
          "data": {
            "text/plain": [
              "Id     0\n",
              "Tag    0\n",
              "dtype: int64"
            ]
          },
          "metadata": {
            "tags": []
          },
          "execution_count": 19
        }
      ]
    },
    {
      "cell_type": "code",
      "metadata": {
        "colab": {
          "base_uri": "https://localhost:8080/"
        },
        "id": "VkTg0noFhVEu",
        "outputId": "1fb30070-e2a4-4d87-a024-0afa6cb40d42"
      },
      "source": [
        "df = ques.merge(new_tags, on='Id')\r\n",
        "print(df.shape)\r\n",
        "df.head()\r\n",
        "\r\n",
        "df = df[0:round(len(df)/4)]"
      ],
      "execution_count": 20,
      "outputs": [
        {
          "output_type": "stream",
          "text": [
            "(826739, 4)\n"
          ],
          "name": "stdout"
        }
      ]
    },
    {
      "cell_type": "code",
      "metadata": {
        "colab": {
          "base_uri": "https://localhost:8080/"
        },
        "id": "ovhEhY5u1Zu7",
        "outputId": "63b6f799-d8f9-4990-e50d-c286f7dfcc34"
      },
      "source": [
        "len(df)\r\n",
        "\r\n",
        "df.shape"
      ],
      "execution_count": 21,
      "outputs": [
        {
          "output_type": "execute_result",
          "data": {
            "text/plain": [
              "(206685, 4)"
            ]
          },
          "metadata": {
            "tags": []
          },
          "execution_count": 21
        }
      ]
    },
    {
      "cell_type": "code",
      "metadata": {
        "colab": {
          "base_uri": "https://localhost:8080/"
        },
        "id": "zdviNjcChq1F",
        "outputId": "3c1cf86a-7eb4-44d8-ea86-60fc7e6e0abf"
      },
      "source": [
        "df.isnull().sum()"
      ],
      "execution_count": 22,
      "outputs": [
        {
          "output_type": "execute_result",
          "data": {
            "text/plain": [
              "Id       0\n",
              "Title    0\n",
              "Body     0\n",
              "Tag      0\n",
              "dtype: int64"
            ]
          },
          "metadata": {
            "tags": []
          },
          "execution_count": 22
        }
      ]
    },
    {
      "cell_type": "code",
      "metadata": {
        "id": "Abq_i0agnOZH"
      },
      "source": [
        "df.drop(['Id'],axis = 1,inplace=True)"
      ],
      "execution_count": 23,
      "outputs": []
    },
    {
      "cell_type": "code",
      "metadata": {
        "id": "83fHqNEznWCS"
      },
      "source": [
        "#Data splitting into training and validation sets\r\n",
        "\r\n",
        "train_size = round(df.shape[0]*0.8)\r\n",
        "test_size = df.shape[0] - train_size\r\n",
        "\r\n",
        "X = df.drop(['Tag'],axis=1)\r\n",
        "Y = df['Tag']\r\n",
        "\r\n",
        "\r\n",
        "#Numericacl representation of the tag values\r\n",
        "from sklearn.preprocessing import LabelEncoder\r\n",
        "\r\n",
        "LE = LabelEncoder()\r\n",
        "Y = LE.fit_transform(Y)\r\n",
        "\r\n",
        "X_train, X_test = X[:train_size], X[train_size:]\r\n",
        "Y_train, Y_test = Y[:train_size], Y[train_size:]"
      ],
      "execution_count": 24,
      "outputs": []
    },
    {
      "cell_type": "code",
      "metadata": {
        "colab": {
          "base_uri": "https://localhost:8080/"
        },
        "id": "pKbKedpcpiyk",
        "outputId": "ab44df53-4298-4203-9500-c9ddd76d83dc"
      },
      "source": [
        "Y"
      ],
      "execution_count": 25,
      "outputs": [
        {
          "output_type": "execute_result",
          "data": {
            "text/plain": [
              "array([1, 2, 1, ..., 8, 8, 8])"
            ]
          },
          "metadata": {
            "tags": []
          },
          "execution_count": 25
        }
      ]
    },
    {
      "cell_type": "code",
      "metadata": {
        "colab": {
          "base_uri": "https://localhost:8080/",
          "height": 204
        },
        "id": "vRm2xLIiqItv",
        "outputId": "8d9cab16-08c2-4c17-b467-be901c25e46d"
      },
      "source": [
        "X_train.head()"
      ],
      "execution_count": 26,
      "outputs": [
        {
          "output_type": "execute_result",
          "data": {
            "text/html": [
              "<div>\n",
              "<style scoped>\n",
              "    .dataframe tbody tr th:only-of-type {\n",
              "        vertical-align: middle;\n",
              "    }\n",
              "\n",
              "    .dataframe tbody tr th {\n",
              "        vertical-align: top;\n",
              "    }\n",
              "\n",
              "    .dataframe thead th {\n",
              "        text-align: right;\n",
              "    }\n",
              "</style>\n",
              "<table border=\"1\" class=\"dataframe\">\n",
              "  <thead>\n",
              "    <tr style=\"text-align: right;\">\n",
              "      <th></th>\n",
              "      <th>Title</th>\n",
              "      <th>Body</th>\n",
              "    </tr>\n",
              "  </thead>\n",
              "  <tbody>\n",
              "    <tr>\n",
              "      <th>0</th>\n",
              "      <td>Adding scripting functionality to .NET applica...</td>\n",
              "      <td>&lt;p&gt;I have a little game written in C#. It uses...</td>\n",
              "    </tr>\n",
              "    <tr>\n",
              "      <th>1</th>\n",
              "      <td>Should I use nested classes in this case?</td>\n",
              "      <td>&lt;p&gt;I am working on a collection of classes use...</td>\n",
              "    </tr>\n",
              "    <tr>\n",
              "      <th>2</th>\n",
              "      <td>Automatically update version number</td>\n",
              "      <td>&lt;p&gt;I would like the version property of my app...</td>\n",
              "    </tr>\n",
              "    <tr>\n",
              "      <th>3</th>\n",
              "      <td>How do I connect to a database and loop over a...</td>\n",
              "      <td>&lt;p&gt;What's the simplest way to connect and quer...</td>\n",
              "    </tr>\n",
              "    <tr>\n",
              "      <th>4</th>\n",
              "      <td>How to get the value of built, encoded ViewState?</td>\n",
              "      <td>&lt;p&gt;I need to grab the base64-encoded represent...</td>\n",
              "    </tr>\n",
              "  </tbody>\n",
              "</table>\n",
              "</div>"
            ],
            "text/plain": [
              "                                               Title                                               Body\n",
              "0  Adding scripting functionality to .NET applica...  <p>I have a little game written in C#. It uses...\n",
              "1          Should I use nested classes in this case?  <p>I am working on a collection of classes use...\n",
              "2                Automatically update version number  <p>I would like the version property of my app...\n",
              "3  How do I connect to a database and loop over a...  <p>What's the simplest way to connect and quer...\n",
              "4  How to get the value of built, encoded ViewState?  <p>I need to grab the base64-encoded represent..."
            ]
          },
          "metadata": {
            "tags": []
          },
          "execution_count": 26
        }
      ]
    },
    {
      "cell_type": "code",
      "metadata": {
        "colab": {
          "base_uri": "https://localhost:8080/"
        },
        "id": "MKrTzrs7qPd3",
        "outputId": "619f07bf-ae48-4567-9a08-872140c3f02e"
      },
      "source": [
        "X_train.shape, X_test.shape,Y_train.shape, Y_test.shape"
      ],
      "execution_count": 27,
      "outputs": [
        {
          "output_type": "execute_result",
          "data": {
            "text/plain": [
              "((165348, 2), (41337, 2), (165348,), (41337,))"
            ]
          },
          "metadata": {
            "tags": []
          },
          "execution_count": 27
        }
      ]
    },
    {
      "cell_type": "code",
      "metadata": {
        "colab": {
          "base_uri": "https://localhost:8080/"
        },
        "id": "N-phGKkFqYlj",
        "outputId": "4a85aac1-8fbd-429d-d534-7aee240633e2"
      },
      "source": [
        "!pip install beautifulsoup4"
      ],
      "execution_count": 28,
      "outputs": [
        {
          "output_type": "stream",
          "text": [
            "Requirement already satisfied: beautifulsoup4 in /usr/local/lib/python3.6/dist-packages (4.6.3)\n"
          ],
          "name": "stdout"
        }
      ]
    },
    {
      "cell_type": "code",
      "metadata": {
        "id": "lm2T4r8u0I6n"
      },
      "source": [
        "from bs4 import BeautifulSoup\r\n",
        "\r\n",
        "# Converting html to text in the body\r\n",
        "X_train['Body'] = X_train['Body'].apply(lambda x: BeautifulSoup(x).get_text())\r\n",
        "X_test['Body'] = X_test['Body'].apply(lambda x: BeautifulSoup(x).get_text())\r\n",
        "\r\n",
        "X_train['Title'] = X_train['Title'].apply(lambda x: BeautifulSoup(x).get_text())\r\n",
        "X_test['Title'] = X_test['Title'].apply(lambda x: BeautifulSoup(x).get_text())"
      ],
      "execution_count": 29,
      "outputs": []
    },
    {
      "cell_type": "code",
      "metadata": {
        "id": "Qge0t-a80S38"
      },
      "source": [
        "#Removing Punctuations\r\n",
        "\r\n",
        "X_train.replace('[^a-zA-Z]',' ', regex=True, inplace=True)\r\n",
        "X_test.replace('[^a-zA-Z]',' ', regex=True, inplace=True)"
      ],
      "execution_count": 32,
      "outputs": []
    },
    {
      "cell_type": "code",
      "metadata": {
        "id": "2VsCr-a80iLM"
      },
      "source": [
        "#Converting to lower case characters\r\n",
        "\r\n",
        "for index in X_train.columns:\r\n",
        "  X_train[index] = X_train[index].str.lower()\r\n",
        "\r\n",
        "for index in X_test.columns:\r\n",
        "  X_test[index] = X_test[index].str.lower()"
      ],
      "execution_count": 30,
      "outputs": []
    },
    {
      "cell_type": "code",
      "metadata": {
        "id": "b2O0ZYQF0jQ2"
      },
      "source": [
        "#Removing multiple blank spaces\r\n",
        "\r\n",
        "X_train = X_train.replace('\\s+', ' ', regex=True)\r\n",
        "X_test = X_test.replace('\\s+', ' ', regex=True)"
      ],
      "execution_count": 31,
      "outputs": []
    },
    {
      "cell_type": "code",
      "metadata": {
        "id": "h_XT8UtT0qMp",
        "colab": {
          "base_uri": "https://localhost:8080/"
        },
        "outputId": "381c09dc-fc64-4bc9-82d6-48a04efe3a12"
      },
      "source": [
        "import nltk\r\n",
        "nltk.download('punkt')\r\n",
        "nltk.download('wordnet')\r\n",
        "nltk.download('stopwords')\r\n",
        "from nltk import sent_tokenize, word_tokenize\r\n",
        "from nltk.stem.snowball import SnowballStemmer\r\n",
        "from nltk.stem.wordnet import WordNetLemmatizer\r\n",
        "from nltk.corpus import stopwords"
      ],
      "execution_count": 33,
      "outputs": [
        {
          "output_type": "stream",
          "text": [
            "[nltk_data] Downloading package punkt to /root/nltk_data...\n",
            "[nltk_data]   Unzipping tokenizers/punkt.zip.\n",
            "[nltk_data] Downloading package wordnet to /root/nltk_data...\n",
            "[nltk_data]   Unzipping corpora/wordnet.zip.\n",
            "[nltk_data] Downloading package stopwords to /root/nltk_data...\n",
            "[nltk_data]   Unzipping corpora/stopwords.zip.\n"
          ],
          "name": "stdout"
        }
      ]
    },
    {
      "cell_type": "code",
      "metadata": {
        "id": "wEYb4KsY0tUx",
        "colab": {
          "base_uri": "https://localhost:8080/"
        },
        "outputId": "aaadb886-91b2-4ad3-ad65-56e9ce93cc8a"
      },
      "source": [
        "type(X_train)"
      ],
      "execution_count": 34,
      "outputs": [
        {
          "output_type": "execute_result",
          "data": {
            "text/plain": [
              "pandas.core.frame.DataFrame"
            ]
          },
          "metadata": {
            "tags": []
          },
          "execution_count": 34
        }
      ]
    },
    {
      "cell_type": "code",
      "metadata": {
        "id": "5titrw-r0uPi"
      },
      "source": [
        "#Excluding stop words\r\n",
        "stop_words = set(stopwords.words('english')) \r\n",
        "len(stop_words)\r\n",
        "X_train['Body'] = X_train['Body'].apply(lambda x: ' '.join(term for term in x.split() if term not in stop_words))\r\n",
        "X_train['Title'] = X_train['Title'].apply(lambda x: ' '.join(term for term in x.split() if term not in stop_words))\r\n",
        "\r\n",
        "X_test['Body'] = X_test['Body'].apply(lambda x: ' '.join(term for term in x.split() if term not in stop_words))\r\n",
        "X_test['Title'] = X_test['Title'].apply(lambda x: ' '.join(term for term in x.split() if term not in stop_words))"
      ],
      "execution_count": 35,
      "outputs": []
    },
    {
      "cell_type": "code",
      "metadata": {
        "id": "eUNssWxp2E-p"
      },
      "source": [
        "#Stemming to roots\r\n",
        "\r\n",
        "stemmer = nltk.SnowballStemmer(language='english')\r\n",
        "\r\n",
        "X_train['Body'] = X_train['Body'].apply(lambda x: ' '.join(stemmer.stem(term) for term in x.split()))\r\n",
        "X_train['Title'] = X_train['Title'].apply(lambda x: ' '.join(stemmer.stem(term) for term in x.split()))\r\n",
        "\r\n",
        "X_test['Body'] = X_test['Body'].apply(lambda x: ' '.join(stemmer.stem(term) for term in x.split()))\r\n",
        "X_test['Title'] = X_test['Title'].apply(lambda x: ' '.join(stemmer.stem(term) for term in x.split()))"
      ],
      "execution_count": 36,
      "outputs": []
    },
    {
      "cell_type": "code",
      "metadata": {
        "id": "P36ByFb_4WGw"
      },
      "source": [
        "#Appending lines\r\n",
        "train_lines = []\r\n",
        "for row in range(0,X_train.shape[0]):\r\n",
        "  train_lines.append(' '.join(str(x) for x in X_train.iloc[row,:]))\r\n",
        "\r\n",
        "test_lines = []\r\n",
        "for row in range(0,X_test.shape[0]):\r\n",
        "  test_lines.append(' '.join(str(x) for x in X_test.iloc[row,:]))"
      ],
      "execution_count": 37,
      "outputs": []
    },
    {
      "cell_type": "code",
      "metadata": {
        "id": "PBAYnxb15S8e"
      },
      "source": [
        "#Model implementation\r\n",
        "\r\n",
        "from tensorflow.keras.layers import Embedding\r\n",
        "from tensorflow.keras.preprocessing.sequence import pad_sequences\r\n",
        "from tensorflow.keras.models import Sequential\r\n",
        "from tensorflow.keras.layers import LSTM, Activation, Dense, Dropout, Flatten, Embedding, BatchNormalization \r\n",
        "from tensorflow.keras.models import Model\r\n",
        "\r\n",
        "from keras.preprocessing.text import Tokenizer"
      ],
      "execution_count": 38,
      "outputs": []
    },
    {
      "cell_type": "code",
      "metadata": {
        "id": "XiqwGzzw5IvR",
        "colab": {
          "base_uri": "https://localhost:8080/"
        },
        "outputId": "e36eeb82-6012-4f5d-b9f0-5593af5d8b5b"
      },
      "source": [
        "max_len_train = len(max(train_lines,key=len))\r\n",
        "max_len_test = len(max(test_lines,key=len))\r\n",
        "print(max_len_train, max_len_test)"
      ],
      "execution_count": 39,
      "outputs": [
        {
          "output_type": "stream",
          "text": [
            "28133 22706\n"
          ],
          "name": "stdout"
        }
      ]
    },
    {
      "cell_type": "code",
      "metadata": {
        "id": "i7-gxfhR5UGf",
        "colab": {
          "base_uri": "https://localhost:8080/"
        },
        "outputId": "1a0caf02-b1e3-4747-9545-bbb09576caef"
      },
      "source": [
        "sent_lens=[]\r\n",
        "for sent in train_lines:\r\n",
        "    sent_lens.append(len(word_tokenize(sent)))\r\n",
        "print(max(sent_lens))"
      ],
      "execution_count": 40,
      "outputs": [
        {
          "output_type": "stream",
          "text": [
            "4557\n"
          ],
          "name": "stdout"
        }
      ]
    },
    {
      "cell_type": "code",
      "metadata": {
        "colab": {
          "base_uri": "https://localhost:8080/"
        },
        "id": "EnACa5TBNFdT",
        "outputId": "9424ce15-64c6-4d92-b8a9-4988a6d26563"
      },
      "source": [
        "print(np.quantile(sent_lens,0.98))"
      ],
      "execution_count": 41,
      "outputs": [
        {
          "output_type": "stream",
          "text": [
            "434.0\n"
          ],
          "name": "stdout"
        }
      ]
    },
    {
      "cell_type": "code",
      "metadata": {
        "id": "4zY9ovbdNIT_"
      },
      "source": [
        "max_len = 434\r\n",
        "tok = Tokenizer(char_level=False,split=' ')\r\n",
        "tok.fit_on_texts(train_lines)\r\n",
        "sequences_train = tok.texts_to_sequences(train_lines)"
      ],
      "execution_count": 42,
      "outputs": []
    },
    {
      "cell_type": "code",
      "metadata": {
        "id": "uKrNo1e-NLVn",
        "colab": {
          "base_uri": "https://localhost:8080/"
        },
        "outputId": "8a77d4df-d5a0-46fa-d47c-283c5c237c2c"
      },
      "source": [
        "vocab_len=len(tok.index_word.keys())\r\n",
        "print(vocab_len) "
      ],
      "execution_count": 43,
      "outputs": [
        {
          "output_type": "stream",
          "text": [
            "302100\n"
          ],
          "name": "stdout"
        }
      ]
    },
    {
      "cell_type": "code",
      "metadata": {
        "colab": {
          "base_uri": "https://localhost:8080/"
        },
        "id": "FKP4_0ltNNVb",
        "outputId": "aa483ca5-d854-4bdd-fe60-1cfd6cda0e03"
      },
      "source": [
        "sequences_matrix_train = pad_sequences(sequences_train,padding='pre',maxlen=max_len)\r\n",
        "print(sequences_matrix_train)"
      ],
      "execution_count": 44,
      "outputs": [
        {
          "output_type": "stream",
          "text": [
            "[[   0    0    0 ...   49  132  458]\n",
            " [   0    0    0 ... 1613  238  242]\n",
            " [   0    0    0 ...  125    6 1225]\n",
            " ...\n",
            " [   0    0    0 ...   93   78   72]\n",
            " [   0    0    0 ...   14 1804   53]\n",
            " [   0    0    0 ...  100  243 1351]]\n"
          ],
          "name": "stdout"
        }
      ]
    },
    {
      "cell_type": "code",
      "metadata": {
        "colab": {
          "base_uri": "https://localhost:8080/"
        },
        "id": "1p1NLQWrNQcF",
        "outputId": "d2d77b03-bdd3-4049-b798-1ba2ee4dcb50"
      },
      "source": [
        "sequences_test = tok.texts_to_sequences(test_lines)\r\n",
        "sequences_matrix_test = pad_sequences(sequences_test,padding='pre',maxlen=max_len)\r\n",
        "print(sequences_matrix_test)"
      ],
      "execution_count": 45,
      "outputs": [
        {
          "output_type": "stream",
          "text": [
            "[[   0    0    0 ...  190   60   53]\n",
            " [   0    0    0 ...  322 2626  181]\n",
            " [   0    0    0 ...   15  208   32]\n",
            " ...\n",
            " [   0    0    0 ...  124  300  125]\n",
            " [   0    0    0 ...   53  379   86]\n",
            " [   0    0    0 ... 1344   82  203]]\n"
          ],
          "name": "stdout"
        }
      ]
    },
    {
      "cell_type": "code",
      "metadata": {
        "id": "eMD5Gi79NTia"
      },
      "source": [
        "model = Sequential()\r\n",
        "model.add(Embedding(vocab_len+1,200,input_length=max_len))\r\n",
        "model.add(Flatten())\r\n",
        "model.add(Dense(400,activation='relu'))\r\n",
        "model.add(Dense(150,activation='relu'))\r\n",
        "model.add(Dropout(0.2))\r\n",
        "model.add(Dense(10, activation='softmax'))"
      ],
      "execution_count": 46,
      "outputs": []
    },
    {
      "cell_type": "code",
      "metadata": {
        "id": "owJKxld3NVd0"
      },
      "source": [
        "from tensorflow.keras.utils import to_categorical\r\n",
        "\r\n",
        "Y_train = to_categorical(Y_train)\r\n",
        "Y_test = to_categorical(Y_test)"
      ],
      "execution_count": 47,
      "outputs": []
    },
    {
      "cell_type": "code",
      "metadata": {
        "colab": {
          "base_uri": "https://localhost:8080/"
        },
        "id": "bbgBn9iWNXV7",
        "outputId": "b773aca7-de94-4066-cef5-e6869d3243df"
      },
      "source": [
        "model.summary()"
      ],
      "execution_count": 48,
      "outputs": [
        {
          "output_type": "stream",
          "text": [
            "Model: \"sequential\"\n",
            "_________________________________________________________________\n",
            "Layer (type)                 Output Shape              Param #   \n",
            "=================================================================\n",
            "embedding (Embedding)        (None, 434, 200)          60420200  \n",
            "_________________________________________________________________\n",
            "flatten (Flatten)            (None, 86800)             0         \n",
            "_________________________________________________________________\n",
            "dense (Dense)                (None, 400)               34720400  \n",
            "_________________________________________________________________\n",
            "dense_1 (Dense)              (None, 150)               60150     \n",
            "_________________________________________________________________\n",
            "dropout (Dropout)            (None, 150)               0         \n",
            "_________________________________________________________________\n",
            "dense_2 (Dense)              (None, 10)                1510      \n",
            "=================================================================\n",
            "Total params: 95,202,260\n",
            "Trainable params: 95,202,260\n",
            "Non-trainable params: 0\n",
            "_________________________________________________________________\n"
          ],
          "name": "stdout"
        }
      ]
    },
    {
      "cell_type": "code",
      "metadata": {
        "id": "v8mpO5nBNail"
      },
      "source": [
        "model.compile(optimizer='adam',loss='categorical_crossentropy',metrics=['accuracy'])"
      ],
      "execution_count": 49,
      "outputs": []
    },
    {
      "cell_type": "code",
      "metadata": {
        "id": "vO0Dov27Ncb-",
        "colab": {
          "base_uri": "https://localhost:8080/"
        },
        "outputId": "205e8561-abb0-4c63-8991-4587078edba2"
      },
      "source": [
        "import tensorflow\r\n",
        "h = model.fit(sequences_matrix_train,Y_train,\r\n",
        "              validation_data=(sequences_matrix_test,Y_test),\r\n",
        "              epochs=4, batch_size=800,\r\n",
        "              callbacks=[\r\n",
        "                         tensorflow.keras.callbacks.EarlyStopping(monitor='val_accuracy', patience=2)\r\n",
        "    ])"
      ],
      "execution_count": 50,
      "outputs": [
        {
          "output_type": "stream",
          "text": [
            "Epoch 1/4\n",
            "207/207 [==============================] - 686s 3s/step - loss: 1.9455 - accuracy: 0.3531 - val_loss: 0.7567 - val_accuracy: 0.7447\n",
            "Epoch 2/4\n",
            "207/207 [==============================] - 688s 3s/step - loss: 0.5993 - accuracy: 0.7950 - val_loss: 0.6734 - val_accuracy: 0.7678\n",
            "Epoch 3/4\n",
            "207/207 [==============================] - 766s 4s/step - loss: 0.4392 - accuracy: 0.8351 - val_loss: 0.6791 - val_accuracy: 0.7682\n",
            "Epoch 4/4\n",
            "207/207 [==============================] - 712s 3s/step - loss: 0.3487 - accuracy: 0.8541 - val_loss: 0.7158 - val_accuracy: 0.7668\n"
          ],
          "name": "stdout"
        }
      ]
    },
    {
      "cell_type": "code",
      "metadata": {
        "id": "nzKdkxz25oTI"
      },
      "source": [
        ""
      ],
      "execution_count": null,
      "outputs": []
    }
  ]
}